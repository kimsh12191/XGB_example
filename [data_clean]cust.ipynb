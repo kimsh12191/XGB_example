{
 "cells": [
  {
   "cell_type": "code",
   "execution_count": 1,
   "metadata": {
    "collapsed": false
   },
   "outputs": [],
   "source": [
    "import pandas as pd\n",
    "import numpy as np\n",
    "import csv\n",
    "import matplotlib.pyplot as plt\n",
    "% matplotlib inline\n",
    "from six.moves import cPickle\n",
    "from sklearn.preprocessing import LabelEncoder\n",
    "from six.moves import cPickle"
   ]
  },
  {
   "cell_type": "code",
   "execution_count": 2,
   "metadata": {
    "collapsed": false
   },
   "outputs": [],
   "source": [
    "cust = pd.read_csv('./Data/challenge_Data/BGCON_CUST_DATA.csv',\n",
    "                          encoding = 'utf-16')"
   ]
  },
  {
   "cell_type": "code",
   "execution_count": 4,
   "metadata": {
    "collapsed": false
   },
   "outputs": [
    {
     "name": "stdout",
     "output_type": "stream",
     "text": [
      "<class 'pandas.core.frame.DataFrame'>\n",
      "RangeIndex: 22400 entries, 0 to 22399\n",
      "Data columns (total 25 columns):\n",
      "CUST_ID             22400 non-null int64\n",
      "DIVIDED_SET         22400 non-null int64\n",
      "SIU_CUST_YN         20607 non-null object\n",
      "SEX                 22400 non-null int64\n",
      "AGE                 22400 non-null int64\n",
      "RESI_COST           22400 non-null int64\n",
      "RESI_TYPE_CODE      21146 non-null float64\n",
      "FP_CAREER           22400 non-null object\n",
      "CUST_RGST           21944 non-null float64\n",
      "CTPR                21779 non-null object\n",
      "OCCP_GRP_1          21805 non-null object\n",
      "OCCP_GRP_2          21805 non-null object\n",
      "TOTALPREM           16609 non-null float64\n",
      "MINCRDT             12924 non-null float64\n",
      "MAXCRDT             12924 non-null float64\n",
      "WEDD_YN             21927 non-null object\n",
      "MATE_OCCP_GRP_1     10573 non-null object\n",
      "MATE_OCCP_GRP_2     10573 non-null object\n",
      "CHLD_CNT            21927 non-null float64\n",
      "LTBN_CHLD_AGE       21927 non-null float64\n",
      "MAX_PAYM_YM         15914 non-null float64\n",
      "MAX_PRM             15914 non-null float64\n",
      "CUST_INCM           17137 non-null float64\n",
      "RCBASE_HSHD_INCM    22400 non-null int64\n",
      "JPBASE_HSHD_INCM    21720 non-null float64\n",
      "dtypes: float64(11), int64(6), object(8)\n",
      "memory usage: 4.3+ MB\n"
     ]
    }
   ],
   "source": [
    "cust.info()"
   ]
  },
  {
   "cell_type": "code",
   "execution_count": 11,
   "metadata": {
    "collapsed": false
   },
   "outputs": [
    {
     "data": {
      "text/plain": [
       "1327264.7460239918"
      ]
     },
     "execution_count": 11,
     "metadata": {},
     "output_type": "execute_result"
    }
   ],
   "source": [
    "cust.MAX_PRM.dropna().std()"
   ]
  },
  {
   "cell_type": "code",
   "execution_count": 3,
   "metadata": {
    "collapsed": false,
    "scrolled": true
   },
   "outputs": [
    {
     "name": "stderr",
     "output_type": "stream",
     "text": [
      "C:\\Anaconda3\\lib\\site-packages\\numpy\\lib\\function_base.py:3834: RuntimeWarning: Invalid value encountered in percentile\n",
      "  RuntimeWarning)\n"
     ]
    },
    {
     "data": {
      "text/html": [
       "<div>\n",
       "<table border=\"1\" class=\"dataframe\">\n",
       "  <thead>\n",
       "    <tr style=\"text-align: right;\">\n",
       "      <th></th>\n",
       "      <th>CUST_ID</th>\n",
       "      <th>DIVIDED_SET</th>\n",
       "      <th>SEX</th>\n",
       "      <th>AGE</th>\n",
       "      <th>RESI_COST</th>\n",
       "      <th>RESI_TYPE_CODE</th>\n",
       "      <th>CUST_RGST</th>\n",
       "      <th>TOTALPREM</th>\n",
       "      <th>MINCRDT</th>\n",
       "      <th>MAXCRDT</th>\n",
       "      <th>CHLD_CNT</th>\n",
       "      <th>LTBN_CHLD_AGE</th>\n",
       "      <th>MAX_PAYM_YM</th>\n",
       "      <th>MAX_PRM</th>\n",
       "      <th>CUST_INCM</th>\n",
       "      <th>RCBASE_HSHD_INCM</th>\n",
       "      <th>JPBASE_HSHD_INCM</th>\n",
       "    </tr>\n",
       "  </thead>\n",
       "  <tbody>\n",
       "    <tr>\n",
       "      <th>count</th>\n",
       "      <td>22400.000000</td>\n",
       "      <td>22400.000000</td>\n",
       "      <td>22400.000000</td>\n",
       "      <td>22400.000000</td>\n",
       "      <td>22400.000000</td>\n",
       "      <td>21146.000000</td>\n",
       "      <td>21944.000000</td>\n",
       "      <td>1.660900e+04</td>\n",
       "      <td>12924.000000</td>\n",
       "      <td>12924.000000</td>\n",
       "      <td>21927.000000</td>\n",
       "      <td>21927.000000</td>\n",
       "      <td>15914.000000</td>\n",
       "      <td>1.591400e+04</td>\n",
       "      <td>17137.000000</td>\n",
       "      <td>22400.000000</td>\n",
       "      <td>21720.000000</td>\n",
       "    </tr>\n",
       "    <tr>\n",
       "      <th>mean</th>\n",
       "      <td>11200.500000</td>\n",
       "      <td>1.080045</td>\n",
       "      <td>1.565134</td>\n",
       "      <td>44.734866</td>\n",
       "      <td>15914.413973</td>\n",
       "      <td>25.765251</td>\n",
       "      <td>198924.250638</td>\n",
       "      <td>2.998266e+07</td>\n",
       "      <td>5.838904</td>\n",
       "      <td>19.480656</td>\n",
       "      <td>0.709491</td>\n",
       "      <td>8.603731</td>\n",
       "      <td>200881.825437</td>\n",
       "      <td>4.807763e+05</td>\n",
       "      <td>2704.184863</td>\n",
       "      <td>4768.733884</td>\n",
       "      <td>5198.238950</td>\n",
       "    </tr>\n",
       "    <tr>\n",
       "      <th>std</th>\n",
       "      <td>6466.467351</td>\n",
       "      <td>0.271368</td>\n",
       "      <td>0.495750</td>\n",
       "      <td>15.445707</td>\n",
       "      <td>14963.317519</td>\n",
       "      <td>20.691869</td>\n",
       "      <td>16989.329112</td>\n",
       "      <td>4.897438e+07</td>\n",
       "      <td>3.515198</td>\n",
       "      <td>32.363151</td>\n",
       "      <td>0.953671</td>\n",
       "      <td>11.585592</td>\n",
       "      <td>522.266749</td>\n",
       "      <td>1.327265e+06</td>\n",
       "      <td>2188.208641</td>\n",
       "      <td>3072.385280</td>\n",
       "      <td>2714.947843</td>\n",
       "    </tr>\n",
       "    <tr>\n",
       "      <th>min</th>\n",
       "      <td>1.000000</td>\n",
       "      <td>1.000000</td>\n",
       "      <td>1.000000</td>\n",
       "      <td>2.000000</td>\n",
       "      <td>0.000000</td>\n",
       "      <td>11.000000</td>\n",
       "      <td>101.000000</td>\n",
       "      <td>5.000000e+02</td>\n",
       "      <td>0.000000</td>\n",
       "      <td>0.000000</td>\n",
       "      <td>0.000000</td>\n",
       "      <td>0.000000</td>\n",
       "      <td>199801.000000</td>\n",
       "      <td>6.000000e+00</td>\n",
       "      <td>0.000000</td>\n",
       "      <td>0.000000</td>\n",
       "      <td>0.000000</td>\n",
       "    </tr>\n",
       "    <tr>\n",
       "      <th>25%</th>\n",
       "      <td>5600.750000</td>\n",
       "      <td>1.000000</td>\n",
       "      <td>1.000000</td>\n",
       "      <td>34.000000</td>\n",
       "      <td>6732.750000</td>\n",
       "      <td>NaN</td>\n",
       "      <td>NaN</td>\n",
       "      <td>NaN</td>\n",
       "      <td>NaN</td>\n",
       "      <td>NaN</td>\n",
       "      <td>NaN</td>\n",
       "      <td>NaN</td>\n",
       "      <td>NaN</td>\n",
       "      <td>NaN</td>\n",
       "      <td>NaN</td>\n",
       "      <td>2995.000000</td>\n",
       "      <td>NaN</td>\n",
       "    </tr>\n",
       "    <tr>\n",
       "      <th>50%</th>\n",
       "      <td>11200.500000</td>\n",
       "      <td>1.000000</td>\n",
       "      <td>2.000000</td>\n",
       "      <td>46.000000</td>\n",
       "      <td>12222.000000</td>\n",
       "      <td>NaN</td>\n",
       "      <td>NaN</td>\n",
       "      <td>NaN</td>\n",
       "      <td>NaN</td>\n",
       "      <td>NaN</td>\n",
       "      <td>NaN</td>\n",
       "      <td>NaN</td>\n",
       "      <td>NaN</td>\n",
       "      <td>NaN</td>\n",
       "      <td>NaN</td>\n",
       "      <td>4807.000000</td>\n",
       "      <td>NaN</td>\n",
       "    </tr>\n",
       "    <tr>\n",
       "      <th>75%</th>\n",
       "      <td>16800.250000</td>\n",
       "      <td>1.000000</td>\n",
       "      <td>2.000000</td>\n",
       "      <td>56.000000</td>\n",
       "      <td>20988.000000</td>\n",
       "      <td>NaN</td>\n",
       "      <td>NaN</td>\n",
       "      <td>NaN</td>\n",
       "      <td>NaN</td>\n",
       "      <td>NaN</td>\n",
       "      <td>NaN</td>\n",
       "      <td>NaN</td>\n",
       "      <td>NaN</td>\n",
       "      <td>NaN</td>\n",
       "      <td>NaN</td>\n",
       "      <td>6607.250000</td>\n",
       "      <td>NaN</td>\n",
       "    </tr>\n",
       "    <tr>\n",
       "      <th>max</th>\n",
       "      <td>22400.000000</td>\n",
       "      <td>2.000000</td>\n",
       "      <td>2.000000</td>\n",
       "      <td>89.000000</td>\n",
       "      <td>305555.000000</td>\n",
       "      <td>99.000000</td>\n",
       "      <td>201602.000000</td>\n",
       "      <td>1.840052e+09</td>\n",
       "      <td>99.000000</td>\n",
       "      <td>99.000000</td>\n",
       "      <td>6.000000</td>\n",
       "      <td>35.000000</td>\n",
       "      <td>207110.000000</td>\n",
       "      <td>5.686262e+07</td>\n",
       "      <td>12687.000000</td>\n",
       "      <td>19829.000000</td>\n",
       "      <td>25872.000000</td>\n",
       "    </tr>\n",
       "  </tbody>\n",
       "</table>\n",
       "</div>"
      ],
      "text/plain": [
       "            CUST_ID   DIVIDED_SET           SEX           AGE      RESI_COST  \\\n",
       "count  22400.000000  22400.000000  22400.000000  22400.000000   22400.000000   \n",
       "mean   11200.500000      1.080045      1.565134     44.734866   15914.413973   \n",
       "std     6466.467351      0.271368      0.495750     15.445707   14963.317519   \n",
       "min        1.000000      1.000000      1.000000      2.000000       0.000000   \n",
       "25%     5600.750000      1.000000      1.000000     34.000000    6732.750000   \n",
       "50%    11200.500000      1.000000      2.000000     46.000000   12222.000000   \n",
       "75%    16800.250000      1.000000      2.000000     56.000000   20988.000000   \n",
       "max    22400.000000      2.000000      2.000000     89.000000  305555.000000   \n",
       "\n",
       "       RESI_TYPE_CODE      CUST_RGST     TOTALPREM       MINCRDT  \\\n",
       "count    21146.000000   21944.000000  1.660900e+04  12924.000000   \n",
       "mean        25.765251  198924.250638  2.998266e+07      5.838904   \n",
       "std         20.691869   16989.329112  4.897438e+07      3.515198   \n",
       "min         11.000000     101.000000  5.000000e+02      0.000000   \n",
       "25%               NaN            NaN           NaN           NaN   \n",
       "50%               NaN            NaN           NaN           NaN   \n",
       "75%               NaN            NaN           NaN           NaN   \n",
       "max         99.000000  201602.000000  1.840052e+09     99.000000   \n",
       "\n",
       "            MAXCRDT      CHLD_CNT  LTBN_CHLD_AGE    MAX_PAYM_YM       MAX_PRM  \\\n",
       "count  12924.000000  21927.000000   21927.000000   15914.000000  1.591400e+04   \n",
       "mean      19.480656      0.709491       8.603731  200881.825437  4.807763e+05   \n",
       "std       32.363151      0.953671      11.585592     522.266749  1.327265e+06   \n",
       "min        0.000000      0.000000       0.000000  199801.000000  6.000000e+00   \n",
       "25%             NaN           NaN            NaN            NaN           NaN   \n",
       "50%             NaN           NaN            NaN            NaN           NaN   \n",
       "75%             NaN           NaN            NaN            NaN           NaN   \n",
       "max       99.000000      6.000000      35.000000  207110.000000  5.686262e+07   \n",
       "\n",
       "          CUST_INCM  RCBASE_HSHD_INCM  JPBASE_HSHD_INCM  \n",
       "count  17137.000000      22400.000000      21720.000000  \n",
       "mean    2704.184863       4768.733884       5198.238950  \n",
       "std     2188.208641       3072.385280       2714.947843  \n",
       "min        0.000000          0.000000          0.000000  \n",
       "25%             NaN       2995.000000               NaN  \n",
       "50%             NaN       4807.000000               NaN  \n",
       "75%             NaN       6607.250000               NaN  \n",
       "max    12687.000000      19829.000000      25872.000000  "
      ]
     },
     "execution_count": 3,
     "metadata": {},
     "output_type": "execute_result"
    }
   ],
   "source": [
    "cust.describe()"
   ]
  },
  {
   "cell_type": "markdown",
   "metadata": {},
   "source": [
    "# Step1"
   ]
  },
  {
   "cell_type": "code",
   "execution_count": 3,
   "metadata": {
    "collapsed": false
   },
   "outputs": [],
   "source": [
    "description = pd.read_excel('./Data/challenge_Data/description.xlsx', sheetname='BGCON_CUST_DATA')\n",
    "categorical = list(description.loc[description['변수타입'] == 'C', '변수영문명'])\n",
    "numerical = list(description.loc[description['변수타입'] == 'N', '변수영문명'])"
   ]
  },
  {
   "cell_type": "code",
   "execution_count": 4,
   "metadata": {
    "collapsed": false
   },
   "outputs": [],
   "source": [
    "features = list(cust.columns)\n",
    "target = []\n",
    "for feature in features:\n",
    "    if cust[feature].isnull().sum() != 0:\n",
    "        target.append(feature)"
   ]
  },
  {
   "cell_type": "code",
   "execution_count": 5,
   "metadata": {
    "collapsed": false
   },
   "outputs": [],
   "source": [
    "n_target = set(target).intersection(set(numerical))\n",
    "c_target = set(target).intersection(set(categorical))\n",
    "n_target = list(n_target)\n",
    "c_target = list(c_target)"
   ]
  },
  {
   "cell_type": "code",
   "execution_count": 6,
   "metadata": {
    "collapsed": false
   },
   "outputs": [],
   "source": [
    "# 'RESI_COST' missing value = 0\n",
    "if 'RESI_COST'not in n_target:\n",
    "    n_target.append('RESI_COST')"
   ]
  },
  {
   "cell_type": "code",
   "execution_count": 7,
   "metadata": {
    "collapsed": false
   },
   "outputs": [],
   "source": [
    "# 'MINICRDT' and 'MAXCRDT' missing value = 6\n",
    "if 'MINICRDT' not in c_target:\n",
    "    c_target.append('MINCRDT')\n",
    "if 'MAXCRDT' not in c_target:\n",
    "    c_target.append('MAXCRDT')\n",
    "    \n",
    "# 'SIU_CUST_YN' is label\n",
    "c_target.remove('SIU_CUST_YN')"
   ]
  },
  {
   "cell_type": "markdown",
   "metadata": {},
   "source": [
    "# Step2\n",
    "## Numerical Type"
   ]
  },
  {
   "cell_type": "code",
   "execution_count": 8,
   "metadata": {
    "collapsed": false
   },
   "outputs": [
    {
     "data": {
      "image/png": "[encoded data removed]",
      "text/plain": [
       "<matplotlib.figure.Figure at 0x7fd756ccdb70>"
      ]
     },
     "metadata": {},
     "output_type": "display_data"
    },
    {
     "data": {
      "image/png": "[encoded data removed]",
      "text/plain": [
       "<matplotlib.figure.Figure at 0x7fd754a730b8>"
      ]
     },
     "metadata": {},
     "output_type": "display_data"
    },
    {
     "data": {
      "image/png": "[encoded data removed]",
      "text/plain": [
       "<matplotlib.figure.Figure at 0x7fd754ba2ef0>"
      ]
     },
     "metadata": {},
     "output_type": "display_data"
    },
    {
     "data": {
      "image/png": "[encoded data removed]",
      "text/plain": [
       "<matplotlib.figure.Figure at 0x7fd754a9e358>"
      ]
     },
     "metadata": {},
     "output_type": "display_data"
    },
    {
     "data": {
      "image/png": "[encoded data removed]",
      "text/plain": [
       "<matplotlib.figure.Figure at 0x7fd7546b5048>"
      ]
     },
     "metadata": {},
     "output_type": "display_data"
    },
    {
     "data": {
      "image/png": "[encoded data removed]",
      "text/plain": [
       "<matplotlib.figure.Figure at 0x7fd754aeaeb8>"
      ]
     },
     "metadata": {},
     "output_type": "display_data"
    },
    {
     "data": {
      "image/png": "[encoded data removed]",
      "text/plain": [
       "<matplotlib.figure.Figure at 0x7fd754b0ab38>"
      ]
     },
     "metadata": {},
     "output_type": "display_data"
    }
   ],
   "source": [
    "# Decide whether fill missing values with median or mean\n",
    "n_dic = {}\n",
    "for nt in n_target:\n",
    "    values = cust.loc[~cust[nt].isnull(), nt].values\n",
    "    n_dic[nt] = values\n",
    "\n",
    "for key in list(n_dic.keys()):\n",
    "    plt.hist(n_dic[key], bins=100)\n",
    "    plt.plot(np.mean(n_dic[key]), 50, 'ro', markersize=10, label='Mean')\n",
    "    plt.plot(np.median(n_dic[key]), 50, 'go', markersize=10, label='Median')\n",
    "    plt.legend(loc=1)\n",
    "    plt.title(key)\n",
    "    plt.show()"
   ]
  },
  {
   "cell_type": "code",
   "execution_count": 9,
   "metadata": {
    "collapsed": true
   },
   "outputs": [],
   "source": [
    "# Warning1 : 'RESI_COST' missing values = 0\n",
    "# Warning2 : 'CUST_INCM' is filled by median\n",
    "for nt in n_target:    \n",
    "    if nt == 'RESI_COST':\n",
    "        filling = np.mean(cust.loc[cust[nt] != 0, nt].values)\n",
    "        cust.loc[cust[nt] == 0, nt] = filling\n",
    "    elif nt == 'CUST_INCM':\n",
    "        filling = 0\n",
    "        cust.loc[cust[nt].isnull(), nt] = filling\n",
    "    elif nt == 'CHLD_CNT':\n",
    "        filling = np.median(cust.loc[~cust[nt].isnull(), nt].values)\n",
    "        cust.loc[cust[nt].isnull(), nt] = filling\n",
    "    else:\n",
    "        filling = np.mean(cust.loc[~cust[nt].isnull(), nt].values)\n",
    "        cust.loc[cust[nt].isnull(), nt] = filling"
   ]
  },
  {
   "cell_type": "markdown",
   "metadata": {
    "collapsed": true
   },
   "source": [
    "## Categorize"
   ]
  },
  {
   "cell_type": "code",
   "execution_count": 10,
   "metadata": {
    "collapsed": false
   },
   "outputs": [],
   "source": [
    "def cate_go(df, colname):\n",
    "    \n",
    "    cut = np.linspace(df[colname].min(),df[colname].max(),10)\n",
    "\n",
    "    cate = np.arange(1,10)\n",
    "    df.loc[df[colname] == cut[0], colname] = 0\n",
    "    \n",
    "    for i in range(0,9):\n",
    "        df.loc[ (df[colname] > cut[i]) & (df[colname] <= cut[i+1]), colname] = cate[i]\n",
    "    return df\n",
    "\n",
    "def plot_col(df, colname):\n",
    "    plt.hist(df[colname], bins=100)\n",
    "    plt.plot(np.mean(df[colname]), 50, 'ro', markersize=10, label='Mean')\n",
    "    plt.plot(np.median(df[colname]), 50, 'go', markersize=10, label='Median')\n",
    "    plt.legend(loc=1)\n",
    "    plt.title(key)\n",
    "    plt.show()"
   ]
  },
  {
   "cell_type": "code",
   "execution_count": 11,
   "metadata": {
    "collapsed": false
   },
   "outputs": [
    {
     "data": {
      "image/png": "[encoded data removed]",
      "text/plain": [
       "<matplotlib.figure.Figure at 0x7fd754624a90>"
      ]
     },
     "metadata": {},
     "output_type": "display_data"
    }
   ],
   "source": [
    "cust = cate_go(cust, 'CUST_INCM')\n",
    "plot_col(cust, 'CUST_INCM')"
   ]
  },
  {
   "cell_type": "code",
   "execution_count": 12,
   "metadata": {
    "collapsed": false
   },
   "outputs": [
    {
     "data": {
      "image/png": "[encoded data removed]",
      "text/plain": [
       "<matplotlib.figure.Figure at 0x7fd754c14198>"
      ]
     },
     "metadata": {},
     "output_type": "display_data"
    },
    {
     "data": {
      "image/png": "[encoded data removed]",
      "text/plain": [
       "<matplotlib.figure.Figure at 0x7fd754c14470>"
      ]
     },
     "metadata": {},
     "output_type": "display_data"
    }
   ],
   "source": [
    "cust['RESI_COST_LOG'] = np.log(cust.RESI_COST.values)\n",
    "plot_col(cust, 'RESI_COST_LOG')\n",
    "cust = cate_go(cust, 'RESI_COST_LOG')\n",
    "plot_col(cust, 'RESI_COST_LOG')"
   ]
  },
  {
   "cell_type": "code",
   "execution_count": 13,
   "metadata": {
    "collapsed": false
   },
   "outputs": [
    {
     "data": {
      "image/png": "[encoded data removed]",
      "text/plain": [
       "<matplotlib.figure.Figure at 0x7fd7546cfbe0>"
      ]
     },
     "metadata": {},
     "output_type": "display_data"
    }
   ],
   "source": [
    "cust = cate_go(cust, 'JPBASE_HSHD_INCM')\n",
    "plot_col(cust, 'JPBASE_HSHD_INCM')"
   ]
  },
  {
   "cell_type": "code",
   "execution_count": 14,
   "metadata": {
    "collapsed": false
   },
   "outputs": [
    {
     "data": {
      "image/png": "[encoded data removed]",
      "text/plain": [
       "<matplotlib.figure.Figure at 0x7fd75452a898>"
      ]
     },
     "metadata": {},
     "output_type": "display_data"
    },
    {
     "data": {
      "image/png": "[encoded data removed]",
      "text/plain": [
       "<matplotlib.figure.Figure at 0x7fd75452a8d0>"
      ]
     },
     "metadata": {},
     "output_type": "display_data"
    }
   ],
   "source": [
    "cust['MAX_PRM_LOG'] = np.log(cust.MAX_PRM.values)\n",
    "plot_col(cust, 'MAX_PRM_LOG')\n",
    "\n",
    "cust = cate_go(cust, 'MAX_PRM_LOG')\n",
    "plot_col(cust, 'MAX_PRM_LOG')"
   ]
  },
  {
   "cell_type": "code",
   "execution_count": 15,
   "metadata": {
    "collapsed": false
   },
   "outputs": [
    {
     "data": {
      "image/png": "[encoded data removed]",
      "text/plain": [
       "<matplotlib.figure.Figure at 0x7fd756ed6ef0>"
      ]
     },
     "metadata": {},
     "output_type": "display_data"
    },
    {
     "data": {
      "image/png": "[encoded data removed]",
      "text/plain": [
       "<matplotlib.figure.Figure at 0x7fd754b970b8>"
      ]
     },
     "metadata": {},
     "output_type": "display_data"
    }
   ],
   "source": [
    "cust['TOTALPREM_LOG'] = np.log(cust.TOTALPREM.values)\n",
    "plot_col(cust, 'TOTALPREM_LOG')\n",
    "\n",
    "cust = cate_go(cust, 'TOTALPREM_LOG')\n",
    "plot_col(cust, 'TOTALPREM_LOG')"
   ]
  },
  {
   "cell_type": "markdown",
   "metadata": {},
   "source": [
    "# Step3\n",
    "## Categorical Type\n",
    "### Targeting NaN"
   ]
  },
  {
   "cell_type": "code",
   "execution_count": 16,
   "metadata": {
    "collapsed": true
   },
   "outputs": [],
   "source": [
    "# Missing values are replaced by '-9999' or -9999\n",
    "string_type = ['WEDD_YN', 'CTPR', 'OCCP_GRP_1', 'OCCP_GRP_2',\n",
    "                 'MATE_OCCP_GRP_2', 'MATE_OCCP_GRP_1']\n",
    "non_string_type = list(set(c_target) - set(string_type))\n",
    "\n",
    "for st in string_type:\n",
    "    cust.loc[cust[st].isnull(), st] = '-9999'\n",
    "for nst in non_string_type:\n",
    "    cust.loc[cust[nst].isnull(), nst] = np.float(-9999)\n",
    "\n",
    "# 'MINCRT' and 'MAXCRT' need one more replacement\n",
    "cust.loc[cust['MINCRDT'] == 6, 'MINCRDT'] = np.float(-9999)\n",
    "cust.loc[cust['MAXCRDT'] == 6, 'MAXCRDT'] = np.float(-9999)"
   ]
  },
  {
   "cell_type": "code",
   "execution_count": 17,
   "metadata": {
    "collapsed": false
   },
   "outputs": [],
   "source": [
    "for st in string_type:\n",
    "\n",
    "    X = cust.loc[cust[st] != '-999', st].values\n",
    "    lbl_enc = LabelEncoder()\n",
    "    lbl_enc.fit(X)\n",
    "    \n",
    "    for element in lbl_enc.classes_:\n",
    "        cust.loc[cust[st] == element, st] = lbl_enc.transform(element)\n",
    "    \n",
    "    cust.loc[cust[st] == '-999', st] = -999"
   ]
  },
  {
   "cell_type": "code",
   "execution_count": 18,
   "metadata": {
    "collapsed": false
   },
   "outputs": [],
   "source": [
    "non_string_type.remove('MAX_PAYM_YM')\n",
    "for nst in non_string_type:\n",
    "    \n",
    "    X = cust.loc[cust[nst] != -999, nst].values\n",
    "    lbl_enc = LabelEncoder()\n",
    "    lbl_enc.fit(X)\n",
    "    \n",
    "    for element in lbl_enc.classes_:\n",
    "        cust.loc[cust[nst] == element, nst] = lbl_enc.transform(element)"
   ]
  },
  {
   "cell_type": "markdown",
   "metadata": {},
   "source": [
    "## split year month \n",
    "\n",
    "- I think month is not important. it will be removed"
   ]
  },
  {
   "cell_type": "code",
   "execution_count": 19,
   "metadata": {
    "collapsed": false
   },
   "outputs": [],
   "source": [
    "def year_convert(input):\n",
    "    if input < 0:\n",
    "        return -9999\n",
    "    else:\n",
    "        string_type = str(input)\n",
    "        string_year = string_type[0:4]\n",
    "        return np.float64(string_year)\n",
    "\n",
    "def month_convert(input):\n",
    "    if input < 0 :\n",
    "        return -9999\n",
    "    else:\n",
    "        string_type = str(input)\n",
    "        string_month = string_type[5:]\n",
    "        return np.float64(string_month)\n",
    "\n",
    "cust['MAX_PAYM_Y'] = cust['MAX_PAYM_YM'].apply(year_convert)\n",
    "cust['MAX_PAYM_M'] = cust['MAX_PAYM_YM'].apply(month_convert)\n",
    "\n",
    "cust['MAX_PAYM_Y'] = cust['MAX_PAYM_Y'].astype(np.int64)\n",
    "cust['MAX_PAYM_M'] = cust['MAX_PAYM_M'].astype(np.int64)\n",
    "\n",
    "cust.drop('MAX_PAYM_YM', axis = 1, inplace = True)"
   ]
  },
  {
   "cell_type": "code",
   "execution_count": null,
   "metadata": {
    "collapsed": true
   },
   "outputs": [],
   "source": []
  },
  {
   "cell_type": "markdown",
   "metadata": {},
   "source": [
    "### Targeting no-NaN"
   ]
  },
  {
   "cell_type": "code",
   "execution_count": 20,
   "metadata": {
    "collapsed": false
   },
   "outputs": [
    {
     "name": "stdout",
     "output_type": "stream",
     "text": [
      "['FP_CAREER']\n"
     ]
    }
   ],
   "source": [
    "no_NaN = list(set(categorical) - set(c_target))\n",
    "no_NaN.remove('SIU_CUST_YN')\n",
    "print(no_NaN)"
   ]
  },
  {
   "cell_type": "markdown",
   "metadata": {},
   "source": [
    "- All features are string type - need labeling"
   ]
  },
  {
   "cell_type": "code",
   "execution_count": 21,
   "metadata": {
    "collapsed": false
   },
   "outputs": [],
   "source": [
    "for feature in no_NaN:\n",
    "    \n",
    "    X = cust[feature].values\n",
    "    lbl_enc = LabelEncoder()\n",
    "    lbl_enc.fit(X)\n",
    "    \n",
    "    for element in lbl_enc.classes_ :\n",
    "        cust.loc[cust[feature] == element, feature] = np.float(lbl_enc.transform(element))"
   ]
  },
  {
   "cell_type": "markdown",
   "metadata": {},
   "source": [
    "# Step5"
   ]
  },
  {
   "cell_type": "code",
   "execution_count": 22,
   "metadata": {
    "collapsed": false
   },
   "outputs": [
    {
     "data": {
      "text/plain": [
       "Index(['CUST_ID', 'DIVIDED_SET', 'SIU_CUST_YN', 'SEX', 'AGE', 'RESI_COST',\n",
       "       'RESI_TYPE_CODE', 'FP_CAREER', 'CUST_RGST', 'CTPR', 'OCCP_GRP_1',\n",
       "       'OCCP_GRP_2', 'TOTALPREM', 'MINCRDT', 'MAXCRDT', 'WEDD_YN',\n",
       "       'MATE_OCCP_GRP_1', 'MATE_OCCP_GRP_2', 'CHLD_CNT', 'LTBN_CHLD_AGE',\n",
       "       'MAX_PRM', 'CUST_INCM', 'RCBASE_HSHD_INCM', 'JPBASE_HSHD_INCM',\n",
       "       'RESI_COST_LOG', 'MAX_PRM_LOG', 'TOTALPREM_LOG', 'MAX_PAYM_Y',\n",
       "       'MAX_PAYM_M'],\n",
       "      dtype='object')"
      ]
     },
     "execution_count": 22,
     "metadata": {},
     "output_type": "execute_result"
    }
   ],
   "source": [
    "cust.columns"
   ]
  },
  {
   "cell_type": "code",
   "execution_count": 23,
   "metadata": {
    "collapsed": true
   },
   "outputs": [],
   "source": [
    "cust.loc[cust['SIU_CUST_YN'] == 'Y', 'SIU_CUST_YN'] = np.int64(1)\n",
    "cust.loc[cust['SIU_CUST_YN'] == 'N', 'SIU_CUST_YN'] = np.int64(0)"
   ]
  },
  {
   "cell_type": "code",
   "execution_count": 24,
   "metadata": {
    "collapsed": true
   },
   "outputs": [],
   "source": [
    "categorical.remove('MAX_PAYM_YM')\n",
    "categorical.append('MAX_PAYM_Y')\n",
    "categorical.append('MAX_PAYM_M')\n",
    "features.remove('MAX_PAYM_YM')\n",
    "features.append('MAX_PAYM_Y')\n",
    "features.append('MAX_PAYM_M')"
   ]
  },
  {
   "cell_type": "code",
   "execution_count": 25,
   "metadata": {
    "collapsed": false
   },
   "outputs": [],
   "source": [
    "for c in categorical:\n",
    "    if c == 'SIU_CUST_YN':\n",
    "        continue\n",
    "    cust[c] = cust[c].astype(np.int64)\n",
    "for n in numerical:\n",
    "    cust[n] = cust[n].astype(np.float64)"
   ]
  },
  {
   "cell_type": "code",
   "execution_count": 26,
   "metadata": {
    "collapsed": false
   },
   "outputs": [],
   "source": [
    "train_set = cust.loc[~cust['SIU_CUST_YN'].isnull(), features]\n",
    "test_set = cust.loc[cust['SIU_CUST_YN'].isnull(), features]\n",
    "label_id = cust[['CUST_ID', 'DIVIDED_SET', 'SIU_CUST_YN']]\n",
    "\n",
    "train_set['SIU_CUST_YN'] = train_set['SIU_CUST_YN'].astype(np.int64)"
   ]
  },
  {
   "cell_type": "markdown",
   "metadata": {},
   "source": [
    "# Step6"
   ]
  },
  {
   "cell_type": "code",
   "execution_count": 27,
   "metadata": {
    "collapsed": false
   },
   "outputs": [],
   "source": [
    "cPickle.dump(cust, open('./Dump/cust.pkl', 'wb'), -1)\n",
    "cPickle.dump(train_set, open('./Dump/cust_train.pkl', 'wb'), -1)\n",
    "cPickle.dump(test_set, open('./Dump/cust_test.pkl', 'wb'), -1)\n",
    "cPickle.dump(label_id, open('./Dump/label_id.pkl', 'wb'), -1)"
   ]
  },
  {
   "cell_type": "code",
   "execution_count": null,
   "metadata": {
    "collapsed": true
   },
   "outputs": [],
   "source": []
  }
 ],
 "metadata": {
  "anaconda-cloud": {},
  "kernelspec": {
   "display_name": "Python [Root]",
   "language": "python",
   "name": "Python [Root]"
  },
  "language_info": {
   "codemirror_mode": {
    "name": "ipython",
    "version": 3
   },
   "file_extension": ".py",
   "mimetype": "text/x-python",
   "name": "python",
   "nbconvert_exporter": "python",
   "pygments_lexer": "ipython3",
   "version": "3.5.2"
  }
 },
 "nbformat": 4,
 "nbformat_minor": 0
}
