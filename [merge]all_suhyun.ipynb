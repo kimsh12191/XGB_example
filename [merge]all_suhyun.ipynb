{
 "cells": [
  {
   "cell_type": "code",
   "execution_count": 1,
   "metadata": {
    "collapsed": false,
    "scrolled": true
   },
   "outputs": [],
   "source": [
    "import pandas as pd\n",
    "import numpy as np\n",
    "import csv\n",
    "from sklearn.preprocessing import LabelEncoder\n",
    "import matplotlib.pyplot as plt\n",
    "from six.moves import cPickle\n",
    "plt.style.use('ggplot')"
   ]
  },
  {
   "cell_type": "code",
   "execution_count": 2,
   "metadata": {
    "collapsed": false
   },
   "outputs": [],
   "source": [
    "train_fp_cntt = cPickle.load(open('./Dump/cntt_fpinfo_train.pkl', 'rb'))\n",
    "train_cust = cPickle.load(open('./Dump/cust_train.pkl', 'rb'))\n",
    "train_claim = cPickle.load(open('./Dump/claim_train.pkl', 'rb'))\n",
    "test_fp_cntt = cPickle.load(open('./Dump/cntt_fpinfo_test.pkl', 'rb'))\n",
    "test_cust = cPickle.load(open('./Dump/cust_test.pkl', 'rb'))\n",
    "test_claim = cPickle.load(open('./Dump/claim_test.pkl', 'rb'))"
   ]
  },
  {
   "cell_type": "markdown",
   "metadata": {},
   "source": [
    "# Step 1 Merge\n",
    "\n",
    "- merge Fp, Cntt and clain"
   ]
  },
  {
   "cell_type": "code",
   "execution_count": 3,
   "metadata": {
    "collapsed": true
   },
   "outputs": [],
   "source": [
    "idx = 1"
   ]
  },
  {
   "cell_type": "code",
   "execution_count": 4,
   "metadata": {
    "collapsed": false
   },
   "outputs": [],
   "source": [
    "temp_claim = train_claim.loc[train_claim.POLY_NO == idx]"
   ]
  },
  {
   "cell_type": "code",
   "execution_count": 5,
   "metadata": {
    "collapsed": false
   },
   "outputs": [],
   "source": [
    "temp_cntt = train_fp_cntt.loc[train_fp_cntt.POLY_NO == idx]"
   ]
  },
  {
   "cell_type": "code",
   "execution_count": 6,
   "metadata": {
    "collapsed": false
   },
   "outputs": [
    {
     "data": {
      "text/html": [
       "<div>\n",
       "<table border=\"1\" class=\"dataframe\">\n",
       "  <thead>\n",
       "    <tr style=\"text-align: right;\">\n",
       "      <th></th>\n",
       "      <th>POLY_NO</th>\n",
       "      <th>CUST_ID</th>\n",
       "      <th>CUST_ROLE</th>\n",
       "      <th>IRKD_CODE_DTAL</th>\n",
       "      <th>IRKD_CODE_ITEM</th>\n",
       "      <th>GOOD_CLSF_CDNM</th>\n",
       "      <th>CLLT_FP_PRNO</th>\n",
       "      <th>REAL_PAYM_TERM</th>\n",
       "      <th>SALE_CHNL_CODE</th>\n",
       "      <th>CNTT_STAT_CODE</th>\n",
       "      <th>...</th>\n",
       "      <th>COUNT_TRMT_ITEM</th>\n",
       "      <th>DCAF_CMPS_XCPA</th>\n",
       "      <th>NON_PAY_RATIO</th>\n",
       "      <th>HEED_HOSP_YN</th>\n",
       "      <th>HOSP_OTPA_STDT_Y</th>\n",
       "      <th>HOSP_OTPA_STDT_M</th>\n",
       "      <th>HOSP_OTPA_ENDT_Y</th>\n",
       "      <th>HOSP_OTPA_ENDT_M</th>\n",
       "      <th>PAYM_DATE_Y</th>\n",
       "      <th>PAYM_DATE_M</th>\n",
       "    </tr>\n",
       "  </thead>\n",
       "  <tbody>\n",
       "    <tr>\n",
       "      <th>0</th>\n",
       "      <td>1</td>\n",
       "      <td>2805</td>\n",
       "      <td>1</td>\n",
       "      <td>1550</td>\n",
       "      <td>10</td>\n",
       "      <td>16</td>\n",
       "      <td>4671.0</td>\n",
       "      <td>20</td>\n",
       "      <td>1</td>\n",
       "      <td>0</td>\n",
       "      <td>...</td>\n",
       "      <td>1.0</td>\n",
       "      <td>NaN</td>\n",
       "      <td>0.0</td>\n",
       "      <td>0</td>\n",
       "      <td>2011</td>\n",
       "      <td>219</td>\n",
       "      <td>2012</td>\n",
       "      <td>107</td>\n",
       "      <td>2012</td>\n",
       "      <td>208</td>\n",
       "    </tr>\n",
       "    <tr>\n",
       "      <th>1</th>\n",
       "      <td>1</td>\n",
       "      <td>2805</td>\n",
       "      <td>1</td>\n",
       "      <td>1550</td>\n",
       "      <td>10</td>\n",
       "      <td>16</td>\n",
       "      <td>4671.0</td>\n",
       "      <td>20</td>\n",
       "      <td>1</td>\n",
       "      <td>0</td>\n",
       "      <td>...</td>\n",
       "      <td>1.0</td>\n",
       "      <td>NaN</td>\n",
       "      <td>0.0</td>\n",
       "      <td>0</td>\n",
       "      <td>-9999</td>\n",
       "      <td>-9999</td>\n",
       "      <td>-9999</td>\n",
       "      <td>-9999</td>\n",
       "      <td>2012</td>\n",
       "      <td>208</td>\n",
       "    </tr>\n",
       "    <tr>\n",
       "      <th>2</th>\n",
       "      <td>1</td>\n",
       "      <td>2805</td>\n",
       "      <td>1</td>\n",
       "      <td>1550</td>\n",
       "      <td>10</td>\n",
       "      <td>16</td>\n",
       "      <td>4671.0</td>\n",
       "      <td>20</td>\n",
       "      <td>1</td>\n",
       "      <td>0</td>\n",
       "      <td>...</td>\n",
       "      <td>1.0</td>\n",
       "      <td>NaN</td>\n",
       "      <td>0.0</td>\n",
       "      <td>0</td>\n",
       "      <td>2014</td>\n",
       "      <td>707</td>\n",
       "      <td>2014</td>\n",
       "      <td>716</td>\n",
       "      <td>2015</td>\n",
       "      <td>204</td>\n",
       "    </tr>\n",
       "    <tr>\n",
       "      <th>3</th>\n",
       "      <td>1</td>\n",
       "      <td>2805</td>\n",
       "      <td>1</td>\n",
       "      <td>1550</td>\n",
       "      <td>10</td>\n",
       "      <td>16</td>\n",
       "      <td>4671.0</td>\n",
       "      <td>20</td>\n",
       "      <td>1</td>\n",
       "      <td>0</td>\n",
       "      <td>...</td>\n",
       "      <td>1.0</td>\n",
       "      <td>NaN</td>\n",
       "      <td>0.0</td>\n",
       "      <td>0</td>\n",
       "      <td>2014</td>\n",
       "      <td>216</td>\n",
       "      <td>2014</td>\n",
       "      <td>227</td>\n",
       "      <td>2015</td>\n",
       "      <td>204</td>\n",
       "    </tr>\n",
       "    <tr>\n",
       "      <th>4</th>\n",
       "      <td>1</td>\n",
       "      <td>2805</td>\n",
       "      <td>1</td>\n",
       "      <td>1550</td>\n",
       "      <td>10</td>\n",
       "      <td>16</td>\n",
       "      <td>4671.0</td>\n",
       "      <td>20</td>\n",
       "      <td>1</td>\n",
       "      <td>0</td>\n",
       "      <td>...</td>\n",
       "      <td>1.0</td>\n",
       "      <td>NaN</td>\n",
       "      <td>0.0</td>\n",
       "      <td>0</td>\n",
       "      <td>-9999</td>\n",
       "      <td>-9999</td>\n",
       "      <td>-9999</td>\n",
       "      <td>-9999</td>\n",
       "      <td>2015</td>\n",
       "      <td>204</td>\n",
       "    </tr>\n",
       "    <tr>\n",
       "      <th>5</th>\n",
       "      <td>1</td>\n",
       "      <td>2805</td>\n",
       "      <td>1</td>\n",
       "      <td>1550</td>\n",
       "      <td>10</td>\n",
       "      <td>16</td>\n",
       "      <td>4671.0</td>\n",
       "      <td>20</td>\n",
       "      <td>1</td>\n",
       "      <td>0</td>\n",
       "      <td>...</td>\n",
       "      <td>1.0</td>\n",
       "      <td>NaN</td>\n",
       "      <td>0.0</td>\n",
       "      <td>0</td>\n",
       "      <td>2015</td>\n",
       "      <td>221</td>\n",
       "      <td>2015</td>\n",
       "      <td>225</td>\n",
       "      <td>2016</td>\n",
       "      <td>315</td>\n",
       "    </tr>\n",
       "    <tr>\n",
       "      <th>6</th>\n",
       "      <td>1</td>\n",
       "      <td>2805</td>\n",
       "      <td>1</td>\n",
       "      <td>1550</td>\n",
       "      <td>10</td>\n",
       "      <td>16</td>\n",
       "      <td>4671.0</td>\n",
       "      <td>20</td>\n",
       "      <td>1</td>\n",
       "      <td>0</td>\n",
       "      <td>...</td>\n",
       "      <td>1.0</td>\n",
       "      <td>NaN</td>\n",
       "      <td>0.0</td>\n",
       "      <td>0</td>\n",
       "      <td>-9999</td>\n",
       "      <td>-9999</td>\n",
       "      <td>-9999</td>\n",
       "      <td>-9999</td>\n",
       "      <td>2016</td>\n",
       "      <td>315</td>\n",
       "    </tr>\n",
       "  </tbody>\n",
       "</table>\n",
       "<p>7 rows × 75 columns</p>\n",
       "</div>"
      ],
      "text/plain": [
       "   POLY_NO  CUST_ID  CUST_ROLE  IRKD_CODE_DTAL  IRKD_CODE_ITEM  \\\n",
       "0        1     2805          1            1550              10   \n",
       "1        1     2805          1            1550              10   \n",
       "2        1     2805          1            1550              10   \n",
       "3        1     2805          1            1550              10   \n",
       "4        1     2805          1            1550              10   \n",
       "5        1     2805          1            1550              10   \n",
       "6        1     2805          1            1550              10   \n",
       "\n",
       "   GOOD_CLSF_CDNM  CLLT_FP_PRNO  REAL_PAYM_TERM  SALE_CHNL_CODE  \\\n",
       "0              16        4671.0              20               1   \n",
       "1              16        4671.0              20               1   \n",
       "2              16        4671.0              20               1   \n",
       "3              16        4671.0              20               1   \n",
       "4              16        4671.0              20               1   \n",
       "5              16        4671.0              20               1   \n",
       "6              16        4671.0              20               1   \n",
       "\n",
       "   CNTT_STAT_CODE     ...       COUNT_TRMT_ITEM  DCAF_CMPS_XCPA  \\\n",
       "0               0     ...                   1.0             NaN   \n",
       "1               0     ...                   1.0             NaN   \n",
       "2               0     ...                   1.0             NaN   \n",
       "3               0     ...                   1.0             NaN   \n",
       "4               0     ...                   1.0             NaN   \n",
       "5               0     ...                   1.0             NaN   \n",
       "6               0     ...                   1.0             NaN   \n",
       "\n",
       "   NON_PAY_RATIO  HEED_HOSP_YN  HOSP_OTPA_STDT_Y  HOSP_OTPA_STDT_M  \\\n",
       "0            0.0             0              2011               219   \n",
       "1            0.0             0             -9999             -9999   \n",
       "2            0.0             0              2014               707   \n",
       "3            0.0             0              2014               216   \n",
       "4            0.0             0             -9999             -9999   \n",
       "5            0.0             0              2015               221   \n",
       "6            0.0             0             -9999             -9999   \n",
       "\n",
       "   HOSP_OTPA_ENDT_Y  HOSP_OTPA_ENDT_M  PAYM_DATE_Y  PAYM_DATE_M  \n",
       "0              2012               107         2012          208  \n",
       "1             -9999             -9999         2012          208  \n",
       "2              2014               716         2015          204  \n",
       "3              2014               227         2015          204  \n",
       "4             -9999             -9999         2015          204  \n",
       "5              2015               225         2016          315  \n",
       "6             -9999             -9999         2016          315  \n",
       "\n",
       "[7 rows x 75 columns]"
      ]
     },
     "execution_count": 6,
     "metadata": {},
     "output_type": "execute_result"
    }
   ],
   "source": [
    "pd.merge(temp_cntt, temp_claim, how = 'inner',\n",
    "         on = ['POLY_NO', 'CUST_ID', 'DIVIDED_SET', 'SIU_CUST_YN'])"
   ]
  },
  {
   "cell_type": "code",
   "execution_count": null,
   "metadata": {
    "collapsed": true
   },
   "outputs": [],
   "source": []
  },
  {
   "cell_type": "markdown",
   "metadata": {},
   "source": [
    "- PAYM_DATE_d has null, but day is not important. I will remove this column"
   ]
  },
  {
   "cell_type": "code",
   "execution_count": 7,
   "metadata": {
    "collapsed": false
   },
   "outputs": [],
   "source": [
    "train_claim.dropna(axis = 1, inplace = True)"
   ]
  },
  {
   "cell_type": "code",
   "execution_count": 8,
   "metadata": {
    "collapsed": false
   },
   "outputs": [],
   "source": [
    "train_claim_cntt = pd.merge(train_fp_cntt, train_claim, how = \"inner\",\n",
    "                            on = ['POLY_NO', 'CUST_ID', 'DIVIDED_SET', 'SIU_CUST_YN'])\n",
    "test_claim_cntt = pd.merge(test_fp_cntt, test_claim, how = \"inner\",\n",
    "                           on = ['POLY_NO', 'CUST_ID', 'DIVIDED_SET'])"
   ]
  },
  {
   "cell_type": "code",
   "execution_count": 9,
   "metadata": {
    "collapsed": true
   },
   "outputs": [],
   "source": [
    "train_claim_cntt.fillna(-999, inplace = True)\n",
    "test_claim_cntt.fillna(-999, inplace = True)"
   ]
  },
  {
   "cell_type": "code",
   "execution_count": 10,
   "metadata": {
    "collapsed": false
   },
   "outputs": [],
   "source": [
    "train_all = pd.merge(train_claim_cntt, train_cust, how = \"inner\", \n",
    "                     on = ['CUST_ID', 'DIVIDED_SET', 'SIU_CUST_YN'])\n",
    "test_all = pd.merge(test_claim_cntt, test_cust, how = \"inner\",\n",
    "                    on = ['CUST_ID', 'DIVIDED_SET'])"
   ]
  },
  {
   "cell_type": "code",
   "execution_count": 11,
   "metadata": {
    "collapsed": false
   },
   "outputs": [
    {
     "name": "stdout",
     "output_type": "stream",
     "text": [
      "<class 'pandas.core.frame.DataFrame'>\n",
      "Int64Index: 109726 entries, 0 to 109725\n",
      "Data columns (total 95 columns):\n",
      "POLY_NO             109726 non-null int64\n",
      "CUST_ID             109726 non-null int64\n",
      "CUST_ROLE           109726 non-null int64\n",
      "IRKD_CODE_DTAL      109726 non-null int64\n",
      "IRKD_CODE_ITEM      109726 non-null int64\n",
      "GOOD_CLSF_CDNM      109726 non-null int64\n",
      "CLLT_FP_PRNO        109726 non-null float64\n",
      "REAL_PAYM_TERM      109726 non-null int64\n",
      "SALE_CHNL_CODE      109726 non-null int64\n",
      "CNTT_STAT_CODE      109726 non-null int64\n",
      "PAYM_CYCL_CODE      109726 non-null float64\n",
      "MAIN_INSR_AMT       109726 non-null float64\n",
      "SUM_ORIG_PREM       109726 non-null float64\n",
      "RECP_PUBL           109726 non-null float64\n",
      "CNTT_RECP           109726 non-null float64\n",
      "MNTH_INCM_AMT       109726 non-null float64\n",
      "DISTANCE            109726 non-null float64\n",
      "CNTT_YM_Y           109726 non-null int64\n",
      "CNTT_YM_M           109726 non-null int64\n",
      "EXPR_YM_Y           109726 non-null int64\n",
      "EXPR_YM_M           109726 non-null int64\n",
      "EXTN_YM_Y           109726 non-null int64\n",
      "EXTN_YM_M           109726 non-null int64\n",
      "LAPS_YM_Y           109726 non-null int64\n",
      "LAPS_YM_M           109726 non-null int64\n",
      "DIVIDED_SET         109726 non-null float64\n",
      "SIU_CUST_YN         109726 non-null int64\n",
      "INCB_DVSN           109726 non-null int64\n",
      "BEFO_JOB            109726 non-null int64\n",
      "EDGB                109726 non-null int64\n",
      "BRCH_CODE           109726 non-null float64\n",
      "ETRS_YM_Y           109726 non-null int64\n",
      "ETRS_YM_M           109726 non-null int64\n",
      "FIRE_YM_Y           109726 non-null int64\n",
      "FIRE_YM_M           109726 non-null int64\n",
      "ACCI_OCCP_GRP1      109726 non-null int64\n",
      "ACCI_OCCP_GRP2      109726 non-null int64\n",
      "CHANG_FP_YN         109726 non-null int64\n",
      "CNTT_RECP_SQNO      109726 non-null int64\n",
      "RECP_DATE           109726 non-null int64\n",
      "ORIG_RESN_DATE      109726 non-null int64\n",
      "RESN_DATE           109726 non-null int64\n",
      "CRNT_PROG_DVSN      109726 non-null int64\n",
      "ACCI_DVSN           109726 non-null int64\n",
      "CAUS_CODE           109726 non-null int64\n",
      "CAUS_CODE_DTAL      109726 non-null int64\n",
      "DSAS_NAME           109726 non-null int64\n",
      "DMND_RESN_CODE      109726 non-null int64\n",
      "DMND_RSCD_SQNO      109726 non-null int64\n",
      "RESL_CD1            109726 non-null int64\n",
      "RESL_NM1            109726 non-null int64\n",
      "VLID_HOSP_OTDA      109726 non-null int64\n",
      "HOUSE_HOSP_DIST     109726 non-null float64\n",
      "HOSP_CODE           109726 non-null float64\n",
      "ACCI_HOSP_ADDR      109726 non-null int64\n",
      "HOSP_SPEC_DVSN      109726 non-null float64\n",
      "CHME_LICE_NO        109726 non-null int64\n",
      "DMND_AMT            109726 non-null int64\n",
      "PAYM_AMT            109726 non-null int64\n",
      "PMMI_DLNG_YN        109726 non-null int64\n",
      "TAMT_SFCA           109726 non-null float64\n",
      "PATT_CHRG_TOTA      109726 non-null float64\n",
      "DSCT_AMT            109726 non-null float64\n",
      "COUNT_TRMT_ITEM     109726 non-null float64\n",
      "NON_PAY_RATIO       109726 non-null float64\n",
      "HEED_HOSP_YN        109726 non-null int64\n",
      "HOSP_OTPA_STDT_Y    109726 non-null int64\n",
      "HOSP_OTPA_STDT_M    109726 non-null int64\n",
      "HOSP_OTPA_ENDT_Y    109726 non-null int64\n",
      "HOSP_OTPA_ENDT_M    109726 non-null int64\n",
      "PAYM_DATE_Y         109726 non-null int64\n",
      "PAYM_DATE_M         109726 non-null int64\n",
      "SEX                 109726 non-null float64\n",
      "AGE                 109726 non-null float64\n",
      "RESI_COST           109726 non-null float64\n",
      "RESI_TYPE_CODE      109726 non-null int64\n",
      "FP_CAREER           109726 non-null int64\n",
      "CUST_RGST           109726 non-null int64\n",
      "CTPR                109726 non-null int64\n",
      "OCCP_GRP_1          109726 non-null int64\n",
      "OCCP_GRP_2          109726 non-null int64\n",
      "TOTALPREM           109726 non-null float64\n",
      "MINCRDT             109726 non-null int64\n",
      "MAXCRDT             109726 non-null int64\n",
      "WEDD_YN             109726 non-null int64\n",
      "MATE_OCCP_GRP_1     109726 non-null int64\n",
      "MATE_OCCP_GRP_2     109726 non-null int64\n",
      "CHLD_CNT            109726 non-null float64\n",
      "LTBN_CHLD_AGE       109726 non-null float64\n",
      "MAX_PRM             109726 non-null float64\n",
      "CUST_INCM           109726 non-null float64\n",
      "RCBASE_HSHD_INCM    109726 non-null float64\n",
      "JPBASE_HSHD_INCM    109726 non-null float64\n",
      "MAX_PAYM_Y          109726 non-null int64\n",
      "MAX_PAYM_M          109726 non-null int64\n",
      "dtypes: float64(28), int64(67)\n",
      "memory usage: 80.4 MB\n"
     ]
    }
   ],
   "source": [
    "train_all.info()"
   ]
  },
  {
   "cell_type": "code",
   "execution_count": null,
   "metadata": {
    "collapsed": true
   },
   "outputs": [],
   "source": []
  },
  {
   "cell_type": "code",
   "execution_count": 12,
   "metadata": {
    "collapsed": true
   },
   "outputs": [],
   "source": [
    "cPickle.dump(test_all, open('./Dump/test_all.pkl', 'wb'), -1)\n",
    "cPickle.dump(train_all, open('./Dump/train_all.pkl', 'wb'), -1)"
   ]
  },
  {
   "cell_type": "code",
   "execution_count": null,
   "metadata": {
    "collapsed": true
   },
   "outputs": [],
   "source": []
  }
 ],
 "metadata": {
  "anaconda-cloud": {},
  "kernelspec": {
   "display_name": "Python 3",
   "language": "python",
   "name": "python3"
  },
  "language_info": {
   "codemirror_mode": {
    "name": "ipython",
    "version": 3
   },
   "file_extension": ".py",
   "mimetype": "text/x-python",
   "name": "python",
   "nbconvert_exporter": "python",
   "pygments_lexer": "ipython3",
   "version": "3.4.3"
  }
 },
 "nbformat": 4,
 "nbformat_minor": 0
}
