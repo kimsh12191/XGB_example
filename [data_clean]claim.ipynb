{
 "cells": [
  {
   "cell_type": "code",
   "execution_count": 5,
   "metadata": {
    "collapsed": true
   },
   "outputs": [],
   "source": [
    "import pandas as pd\n",
    "import numpy as np\n",
    "import csv\n",
    "import matplotlib.pyplot as plt\n",
    "% matplotlib inline\n",
    "from six.moves import cPickle\n",
    "from sklearn.preprocessing import LabelEncoder\n",
    "from six.moves import cPickle"
   ]
  },
  {
   "cell_type": "code",
   "execution_count": 6,
   "metadata": {
    "collapsed": false
   },
   "outputs": [],
   "source": [
    "claim = pd.read_csv('./Data/challenge_Data/BGCON_CLAIM_DATA.csv',\n",
    "                    encoding='utf-16')"
   ]
  },
  {
   "cell_type": "code",
   "execution_count": 36,
   "metadata": {
    "collapsed": false
   },
   "outputs": [
    {
     "data": {
      "text/plain": [
       "0.08737030459652985"
      ]
     },
     "execution_count": 36,
     "metadata": {},
     "output_type": "execute_result"
    }
   ],
   "source": [
    "claim.NON_PAY_RATIO.dropna().mean()"
   ]
  },
  {
   "cell_type": "code",
   "execution_count": 37,
   "metadata": {
    "collapsed": false
   },
   "outputs": [
    {
     "data": {
      "text/plain": [
       "0.24329083195069526"
      ]
     },
     "execution_count": 37,
     "metadata": {},
     "output_type": "execute_result"
    }
   ],
   "source": [
    "claim.NON_PAY_RATIO.dropna().std()"
   ]
  },
  {
   "cell_type": "code",
   "execution_count": 24,
   "metadata": {
    "collapsed": false
   },
   "outputs": [
    {
     "name": "stderr",
     "output_type": "stream",
     "text": [
      "C:\\Anaconda3\\lib\\site-packages\\numpy\\lib\\function_base.py:3834: RuntimeWarning: Invalid value encountered in percentile\n",
      "  RuntimeWarning)\n"
     ]
    },
    {
     "data": {
      "text/plain": [
       "count    1.190200e+05\n",
       "mean     8.114452e+05\n",
       "std      4.174797e+06\n",
       "min      0.000000e+00\n",
       "25%      1.000000e+05\n",
       "50%      2.400000e+05\n",
       "75%      5.000000e+05\n",
       "max      3.006636e+08\n",
       "Name: DMND_AMT, dtype: float64"
      ]
     },
     "execution_count": 24,
     "metadata": {},
     "output_type": "execute_result"
    }
   ],
   "source": [
    "claim.describe()['DMND_AMT']"
   ]
  },
  {
   "cell_type": "code",
   "execution_count": 4,
   "metadata": {
    "collapsed": false
   },
   "outputs": [
    {
     "name": "stdout",
     "output_type": "stream",
     "text": [
      "<class 'pandas.core.frame.DataFrame'>\n",
      "RangeIndex: 119020 entries, 0 to 119019\n",
      "Data columns (total 39 columns):\n",
      "CUST_ID            119020 non-null int64\n",
      "POLY_NO            119020 non-null int64\n",
      "ACCI_OCCP_GRP1     117603 non-null object\n",
      "ACCI_OCCP_GRP2     117603 non-null object\n",
      "CHANG_FP_YN        119020 non-null object\n",
      "CNTT_RECP_SQNO     119020 non-null int64\n",
      "RECP_DATE          119020 non-null int64\n",
      "ORIG_RESN_DATE     119020 non-null int64\n",
      "RESN_DATE          119020 non-null int64\n",
      "CRNT_PROG_DVSN     119020 non-null int64\n",
      "ACCI_DVSN          119020 non-null int64\n",
      "CAUS_CODE          119020 non-null object\n",
      "CAUS_CODE_DTAL     119020 non-null object\n",
      "DSAS_NAME          119020 non-null object\n",
      "DMND_RESN_CODE     119020 non-null int64\n",
      "DMND_RSCD_SQNO     119020 non-null int64\n",
      "HOSP_OTPA_STDT     86449 non-null float64\n",
      "HOSP_OTPA_ENDT     86449 non-null float64\n",
      "RESL_CD1           119020 non-null object\n",
      "RESL_NM1           119020 non-null object\n",
      "VLID_HOSP_OTDA     119020 non-null int64\n",
      "HOUSE_HOSP_DIST    101972 non-null float64\n",
      "HOSP_CODE          119011 non-null float64\n",
      "ACCI_HOSP_ADDR     108950 non-null object\n",
      "HOSP_SPEC_DVSN     119011 non-null float64\n",
      "CHME_LICE_NO       119020 non-null int64\n",
      "PAYM_DATE          119007 non-null float64\n",
      "DMND_AMT           119020 non-null int64\n",
      "PAYM_AMT           119020 non-null int64\n",
      "PMMI_DLNG_YN       119020 non-null object\n",
      "SELF_CHAM          18967 non-null float64\n",
      "NON_PAY            18967 non-null float64\n",
      "TAMT_SFCA          18967 non-null float64\n",
      "PATT_CHRG_TOTA     18967 non-null float64\n",
      "DSCT_AMT           18967 non-null float64\n",
      "COUNT_TRMT_ITEM    18967 non-null float64\n",
      "DCAF_CMPS_XCPA     8057 non-null float64\n",
      "NON_PAY_RATIO      119020 non-null float64\n",
      "HEED_HOSP_YN       119020 non-null object\n",
      "dtypes: float64(14), int64(14), object(11)\n",
      "memory usage: 35.4+ MB\n"
     ]
    }
   ],
   "source": [
    "claim.info()"
   ]
  },
  {
   "cell_type": "code",
   "execution_count": 3,
   "metadata": {
    "collapsed": false
   },
   "outputs": [
    {
     "data": {
      "text/html": [
       "<div>\n",
       "<table border=\"1\" class=\"dataframe\">\n",
       "  <thead>\n",
       "    <tr style=\"text-align: right;\">\n",
       "      <th></th>\n",
       "      <th>CUST_ID</th>\n",
       "      <th>POLY_NO</th>\n",
       "      <th>ACCI_OCCP_GRP1</th>\n",
       "      <th>ACCI_OCCP_GRP2</th>\n",
       "      <th>CHANG_FP_YN</th>\n",
       "      <th>CNTT_RECP_SQNO</th>\n",
       "      <th>RECP_DATE</th>\n",
       "      <th>ORIG_RESN_DATE</th>\n",
       "      <th>RESN_DATE</th>\n",
       "      <th>CRNT_PROG_DVSN</th>\n",
       "      <th>...</th>\n",
       "      <th>PMMI_DLNG_YN</th>\n",
       "      <th>SELF_CHAM</th>\n",
       "      <th>NON_PAY</th>\n",
       "      <th>TAMT_SFCA</th>\n",
       "      <th>PATT_CHRG_TOTA</th>\n",
       "      <th>DSCT_AMT</th>\n",
       "      <th>COUNT_TRMT_ITEM</th>\n",
       "      <th>DCAF_CMPS_XCPA</th>\n",
       "      <th>NON_PAY_RATIO</th>\n",
       "      <th>HEED_HOSP_YN</th>\n",
       "    </tr>\n",
       "  </thead>\n",
       "  <tbody>\n",
       "    <tr>\n",
       "      <th>0</th>\n",
       "      <td>5936</td>\n",
       "      <td>1365</td>\n",
       "      <td>8.기타</td>\n",
       "      <td>학생</td>\n",
       "      <td>Y</td>\n",
       "      <td>2006011200001</td>\n",
       "      <td>20060112</td>\n",
       "      <td>20060109</td>\n",
       "      <td>20060109</td>\n",
       "      <td>11</td>\n",
       "      <td>...</td>\n",
       "      <td>N</td>\n",
       "      <td>NaN</td>\n",
       "      <td>NaN</td>\n",
       "      <td>NaN</td>\n",
       "      <td>NaN</td>\n",
       "      <td>NaN</td>\n",
       "      <td>NaN</td>\n",
       "      <td>NaN</td>\n",
       "      <td>0.0</td>\n",
       "      <td>N</td>\n",
       "    </tr>\n",
       "    <tr>\n",
       "      <th>1</th>\n",
       "      <td>5936</td>\n",
       "      <td>6151</td>\n",
       "      <td>8.기타</td>\n",
       "      <td>학생</td>\n",
       "      <td>Y</td>\n",
       "      <td>2006011200002</td>\n",
       "      <td>20060112</td>\n",
       "      <td>20060109</td>\n",
       "      <td>20060109</td>\n",
       "      <td>11</td>\n",
       "      <td>...</td>\n",
       "      <td>N</td>\n",
       "      <td>NaN</td>\n",
       "      <td>NaN</td>\n",
       "      <td>NaN</td>\n",
       "      <td>NaN</td>\n",
       "      <td>NaN</td>\n",
       "      <td>NaN</td>\n",
       "      <td>NaN</td>\n",
       "      <td>0.0</td>\n",
       "      <td>N</td>\n",
       "    </tr>\n",
       "    <tr>\n",
       "      <th>2</th>\n",
       "      <td>5936</td>\n",
       "      <td>10364</td>\n",
       "      <td>8.기타</td>\n",
       "      <td>학생</td>\n",
       "      <td>Y</td>\n",
       "      <td>2006011200003</td>\n",
       "      <td>20060112</td>\n",
       "      <td>20060109</td>\n",
       "      <td>20060109</td>\n",
       "      <td>11</td>\n",
       "      <td>...</td>\n",
       "      <td>N</td>\n",
       "      <td>NaN</td>\n",
       "      <td>NaN</td>\n",
       "      <td>NaN</td>\n",
       "      <td>NaN</td>\n",
       "      <td>NaN</td>\n",
       "      <td>NaN</td>\n",
       "      <td>NaN</td>\n",
       "      <td>0.0</td>\n",
       "      <td>N</td>\n",
       "    </tr>\n",
       "    <tr>\n",
       "      <th>3</th>\n",
       "      <td>1043</td>\n",
       "      <td>1247</td>\n",
       "      <td>1.주부</td>\n",
       "      <td>주부</td>\n",
       "      <td>N</td>\n",
       "      <td>2006011200004</td>\n",
       "      <td>20060112</td>\n",
       "      <td>20060105</td>\n",
       "      <td>20060105</td>\n",
       "      <td>23</td>\n",
       "      <td>...</td>\n",
       "      <td>N</td>\n",
       "      <td>NaN</td>\n",
       "      <td>NaN</td>\n",
       "      <td>NaN</td>\n",
       "      <td>NaN</td>\n",
       "      <td>NaN</td>\n",
       "      <td>NaN</td>\n",
       "      <td>NaN</td>\n",
       "      <td>0.0</td>\n",
       "      <td>N</td>\n",
       "    </tr>\n",
       "    <tr>\n",
       "      <th>4</th>\n",
       "      <td>8545</td>\n",
       "      <td>11236</td>\n",
       "      <td>1.주부</td>\n",
       "      <td>주부</td>\n",
       "      <td>Y</td>\n",
       "      <td>2006011200005</td>\n",
       "      <td>20060112</td>\n",
       "      <td>20060110</td>\n",
       "      <td>20060110</td>\n",
       "      <td>11</td>\n",
       "      <td>...</td>\n",
       "      <td>N</td>\n",
       "      <td>NaN</td>\n",
       "      <td>NaN</td>\n",
       "      <td>NaN</td>\n",
       "      <td>NaN</td>\n",
       "      <td>NaN</td>\n",
       "      <td>NaN</td>\n",
       "      <td>NaN</td>\n",
       "      <td>0.0</td>\n",
       "      <td>N</td>\n",
       "    </tr>\n",
       "    <tr>\n",
       "      <th>5</th>\n",
       "      <td>4734</td>\n",
       "      <td>95991</td>\n",
       "      <td>8.기타</td>\n",
       "      <td>학생</td>\n",
       "      <td>Y</td>\n",
       "      <td>2006011200006</td>\n",
       "      <td>20060112</td>\n",
       "      <td>20060103</td>\n",
       "      <td>20060103</td>\n",
       "      <td>11</td>\n",
       "      <td>...</td>\n",
       "      <td>N</td>\n",
       "      <td>NaN</td>\n",
       "      <td>NaN</td>\n",
       "      <td>NaN</td>\n",
       "      <td>NaN</td>\n",
       "      <td>NaN</td>\n",
       "      <td>NaN</td>\n",
       "      <td>NaN</td>\n",
       "      <td>0.0</td>\n",
       "      <td>N</td>\n",
       "    </tr>\n",
       "    <tr>\n",
       "      <th>6</th>\n",
       "      <td>9416</td>\n",
       "      <td>75504</td>\n",
       "      <td>2.자영업</td>\n",
       "      <td>자영업</td>\n",
       "      <td>N</td>\n",
       "      <td>2006012600001</td>\n",
       "      <td>20060126</td>\n",
       "      <td>20051223</td>\n",
       "      <td>20060101</td>\n",
       "      <td>11</td>\n",
       "      <td>...</td>\n",
       "      <td>N</td>\n",
       "      <td>NaN</td>\n",
       "      <td>NaN</td>\n",
       "      <td>NaN</td>\n",
       "      <td>NaN</td>\n",
       "      <td>NaN</td>\n",
       "      <td>NaN</td>\n",
       "      <td>NaN</td>\n",
       "      <td>0.0</td>\n",
       "      <td>N</td>\n",
       "    </tr>\n",
       "    <tr>\n",
       "      <th>7</th>\n",
       "      <td>20267</td>\n",
       "      <td>78879</td>\n",
       "      <td>1.주부</td>\n",
       "      <td>주부</td>\n",
       "      <td>Y</td>\n",
       "      <td>2006012600002</td>\n",
       "      <td>20060126</td>\n",
       "      <td>20060103</td>\n",
       "      <td>20060103</td>\n",
       "      <td>23</td>\n",
       "      <td>...</td>\n",
       "      <td>N</td>\n",
       "      <td>NaN</td>\n",
       "      <td>NaN</td>\n",
       "      <td>NaN</td>\n",
       "      <td>NaN</td>\n",
       "      <td>NaN</td>\n",
       "      <td>NaN</td>\n",
       "      <td>NaN</td>\n",
       "      <td>0.0</td>\n",
       "      <td>N</td>\n",
       "    </tr>\n",
       "    <tr>\n",
       "      <th>8</th>\n",
       "      <td>2778</td>\n",
       "      <td>81980</td>\n",
       "      <td>5.서비스</td>\n",
       "      <td>2차산업 종사자</td>\n",
       "      <td>N</td>\n",
       "      <td>2006021500001</td>\n",
       "      <td>20060215</td>\n",
       "      <td>20030320</td>\n",
       "      <td>20060116</td>\n",
       "      <td>11</td>\n",
       "      <td>...</td>\n",
       "      <td>N</td>\n",
       "      <td>NaN</td>\n",
       "      <td>NaN</td>\n",
       "      <td>NaN</td>\n",
       "      <td>NaN</td>\n",
       "      <td>NaN</td>\n",
       "      <td>NaN</td>\n",
       "      <td>NaN</td>\n",
       "      <td>0.0</td>\n",
       "      <td>N</td>\n",
       "    </tr>\n",
       "    <tr>\n",
       "      <th>9</th>\n",
       "      <td>9019</td>\n",
       "      <td>71773</td>\n",
       "      <td>8.기타</td>\n",
       "      <td>학생</td>\n",
       "      <td>N</td>\n",
       "      <td>2006021500002</td>\n",
       "      <td>20060215</td>\n",
       "      <td>20040903</td>\n",
       "      <td>20060201</td>\n",
       "      <td>11</td>\n",
       "      <td>...</td>\n",
       "      <td>N</td>\n",
       "      <td>NaN</td>\n",
       "      <td>NaN</td>\n",
       "      <td>NaN</td>\n",
       "      <td>NaN</td>\n",
       "      <td>NaN</td>\n",
       "      <td>NaN</td>\n",
       "      <td>NaN</td>\n",
       "      <td>0.0</td>\n",
       "      <td>N</td>\n",
       "    </tr>\n",
       "  </tbody>\n",
       "</table>\n",
       "<p>10 rows × 39 columns</p>\n",
       "</div>"
      ],
      "text/plain": [
       "   CUST_ID  POLY_NO ACCI_OCCP_GRP1 ACCI_OCCP_GRP2 CHANG_FP_YN  CNTT_RECP_SQNO  \\\n",
       "0     5936     1365           8.기타             학생           Y   2006011200001   \n",
       "1     5936     6151           8.기타             학생           Y   2006011200002   \n",
       "2     5936    10364           8.기타             학생           Y   2006011200003   \n",
       "3     1043     1247           1.주부             주부           N   2006011200004   \n",
       "4     8545    11236           1.주부             주부           Y   2006011200005   \n",
       "5     4734    95991           8.기타             학생           Y   2006011200006   \n",
       "6     9416    75504          2.자영업            자영업           N   2006012600001   \n",
       "7    20267    78879           1.주부             주부           Y   2006012600002   \n",
       "8     2778    81980          5.서비스       2차산업 종사자           N   2006021500001   \n",
       "9     9019    71773           8.기타             학생           N   2006021500002   \n",
       "\n",
       "   RECP_DATE  ORIG_RESN_DATE  RESN_DATE  CRNT_PROG_DVSN     ...       \\\n",
       "0   20060112        20060109   20060109              11     ...        \n",
       "1   20060112        20060109   20060109              11     ...        \n",
       "2   20060112        20060109   20060109              11     ...        \n",
       "3   20060112        20060105   20060105              23     ...        \n",
       "4   20060112        20060110   20060110              11     ...        \n",
       "5   20060112        20060103   20060103              11     ...        \n",
       "6   20060126        20051223   20060101              11     ...        \n",
       "7   20060126        20060103   20060103              23     ...        \n",
       "8   20060215        20030320   20060116              11     ...        \n",
       "9   20060215        20040903   20060201              11     ...        \n",
       "\n",
       "   PMMI_DLNG_YN SELF_CHAM NON_PAY TAMT_SFCA  PATT_CHRG_TOTA  DSCT_AMT  \\\n",
       "0             N       NaN     NaN       NaN             NaN       NaN   \n",
       "1             N       NaN     NaN       NaN             NaN       NaN   \n",
       "2             N       NaN     NaN       NaN             NaN       NaN   \n",
       "3             N       NaN     NaN       NaN             NaN       NaN   \n",
       "4             N       NaN     NaN       NaN             NaN       NaN   \n",
       "5             N       NaN     NaN       NaN             NaN       NaN   \n",
       "6             N       NaN     NaN       NaN             NaN       NaN   \n",
       "7             N       NaN     NaN       NaN             NaN       NaN   \n",
       "8             N       NaN     NaN       NaN             NaN       NaN   \n",
       "9             N       NaN     NaN       NaN             NaN       NaN   \n",
       "\n",
       "   COUNT_TRMT_ITEM  DCAF_CMPS_XCPA NON_PAY_RATIO HEED_HOSP_YN  \n",
       "0              NaN             NaN           0.0            N  \n",
       "1              NaN             NaN           0.0            N  \n",
       "2              NaN             NaN           0.0            N  \n",
       "3              NaN             NaN           0.0            N  \n",
       "4              NaN             NaN           0.0            N  \n",
       "5              NaN             NaN           0.0            N  \n",
       "6              NaN             NaN           0.0            N  \n",
       "7              NaN             NaN           0.0            N  \n",
       "8              NaN             NaN           0.0            N  \n",
       "9              NaN             NaN           0.0            N  \n",
       "\n",
       "[10 rows x 39 columns]"
      ]
     },
     "execution_count": 3,
     "metadata": {},
     "output_type": "execute_result"
    }
   ],
   "source": [
    "claim.head(10)"
   ]
  },
  {
   "cell_type": "markdown",
   "metadata": {},
   "source": [
    "# Step1"
   ]
  },
  {
   "cell_type": "code",
   "execution_count": 4,
   "metadata": {
    "collapsed": false
   },
   "outputs": [],
   "source": [
    "description = pd.read_excel('./Data/challenge_Data/description.xlsx', sheetname='BGCON_CLAIM_DATA')\n",
    "categorical = list(description.loc[description['변수타입'] == 'C', '변수영문명'])\n",
    "numerical = list(description.loc[description['변수타입'] == 'N', '변수영문명'])"
   ]
  },
  {
   "cell_type": "code",
   "execution_count": 5,
   "metadata": {
    "collapsed": false
   },
   "outputs": [],
   "source": [
    "features = list(claim.columns)\n",
    "target = []\n",
    "for feature in features:\n",
    "    if claim[feature].isnull().sum() != 0:\n",
    "        target.append(feature)"
   ]
  },
  {
   "cell_type": "code",
   "execution_count": 6,
   "metadata": {
    "collapsed": true
   },
   "outputs": [],
   "source": [
    "n_target = set(target).intersection(set(numerical))\n",
    "c_target = set(target).intersection(set(categorical))\n",
    "n_target = list(n_target)\n",
    "c_target = list(c_target)"
   ]
  },
  {
   "cell_type": "code",
   "execution_count": 7,
   "metadata": {
    "collapsed": false
   },
   "outputs": [
    {
     "name": "stdout",
     "output_type": "stream",
     "text": [
      "['NON_PAY', 'DSCT_AMT', 'TAMT_SFCA', 'SELF_CHAM', 'HOSP_CODE', 'HOUSE_HOSP_DIST', 'PATT_CHRG_TOTA', 'COUNT_TRMT_ITEM']\n",
      "['PAYM_DATE', 'HOSP_OTPA_ENDT', 'ACCI_HOSP_ADDR', 'ACCI_OCCP_GRP2', 'ACCI_OCCP_GRP1', 'HOSP_SPEC_DVSN', 'HOSP_OTPA_STDT']\n"
     ]
    }
   ],
   "source": [
    "print(n_target)\n",
    "print(c_target)"
   ]
  },
  {
   "cell_type": "markdown",
   "metadata": {},
   "source": [
    "# Step2"
   ]
  },
  {
   "cell_type": "code",
   "execution_count": 8,
   "metadata": {
    "collapsed": false
   },
   "outputs": [],
   "source": [
    "object_type = []\n",
    "non_object_type = []\n",
    "for c in categorical:\n",
    "    if claim[c].dtype == 'O':\n",
    "        object_type.append(c)\n",
    "    else:\n",
    "        non_object_type.append(c)"
   ]
  },
  {
   "cell_type": "markdown",
   "metadata": {},
   "source": [
    "# Step3"
   ]
  },
  {
   "cell_type": "code",
   "execution_count": 9,
   "metadata": {
    "collapsed": false
   },
   "outputs": [
    {
     "name": "stdout",
     "output_type": "stream",
     "text": [
      "ACCI_OCCP_GRP1\n",
      "completed!\n",
      "ACCI_OCCP_GRP2\n",
      "completed!\n",
      "CHANG_FP_YN\n",
      "completed!\n",
      "CAUS_CODE\n",
      "completed!\n",
      "CAUS_CODE_DTAL\n",
      "completed!\n",
      "DSAS_NAME\n",
      "completed!\n",
      "RESL_CD1\n",
      "completed!\n",
      "RESL_NM1\n",
      "completed!\n",
      "ACCI_HOSP_ADDR\n",
      "completed!\n",
      "PMMI_DLNG_YN\n",
      "completed!\n",
      "HEED_HOSP_YN\n",
      "completed!\n"
     ]
    }
   ],
   "source": [
    "for ot in object_type:\n",
    "    print(ot)\n",
    "    if ot in c_target:\n",
    "        claim.loc[claim[ot].isnull(), ot] = '-999'\n",
    "        X = claim.loc[claim[ot] != '-999', ot].values\n",
    "        lbl_enc = LabelEncoder()\n",
    "        lbl_enc.fit(X)\n",
    "        claim.loc[claim[ot] != '-999', ot] = lbl_enc.transform(X)\n",
    "        claim.loc[claim[ot] == '-999', ot] = -999\n",
    "        claim[ot] = claim[ot].astype(np.int64)\n",
    "    else:\n",
    "        X = claim[ot].values\n",
    "        lbl_enc = LabelEncoder()\n",
    "        lbl_enc.fit(X)\n",
    "        claim[ot] = lbl_enc.transform(X)\n",
    "        claim[ot] = claim[ot].astype(np.int64)\n",
    "    print('completed!')"
   ]
  },
  {
   "cell_type": "markdown",
   "metadata": {},
   "source": [
    "# Step4"
   ]
  },
  {
   "cell_type": "code",
   "execution_count": 10,
   "metadata": {
    "collapsed": true
   },
   "outputs": [],
   "source": [
    "for k in non_object_type:\n",
    "    claim.loc[claim[k].isnull(), k] = -999"
   ]
  },
  {
   "cell_type": "markdown",
   "metadata": {},
   "source": [
    "# Step5"
   ]
  },
  {
   "cell_type": "code",
   "execution_count": 11,
   "metadata": {
    "collapsed": false
   },
   "outputs": [
    {
     "name": "stdout",
     "output_type": "stream",
     "text": [
      "['NON_PAY', 'DSCT_AMT', 'TAMT_SFCA', 'SELF_CHAM', 'HOSP_CODE', 'HOUSE_HOSP_DIST', 'PATT_CHRG_TOTA', 'COUNT_TRMT_ITEM']\n"
     ]
    }
   ],
   "source": [
    "print(n_target)"
   ]
  },
  {
   "cell_type": "code",
   "execution_count": 12,
   "metadata": {
    "collapsed": false,
    "scrolled": false
   },
   "outputs": [
    {
     "data": {
      "image/png": "[encoded data removed]",
      "text/plain": [
       "<matplotlib.figure.Figure at 0x7f454c4774a8>"
      ]
     },
     "metadata": {},
     "output_type": "display_data"
    },
    {
     "data": {
      "image/png": "[encoded data removed]",
      "text/plain": [
       "<matplotlib.figure.Figure at 0x7f454c3def60>"
      ]
     },
     "metadata": {},
     "output_type": "display_data"
    },
    {
     "data": {
      "image/png": "[encoded data removed]",
      "text/plain": [
       "<matplotlib.figure.Figure at 0x7f454c43e128>"
      ]
     },
     "metadata": {},
     "output_type": "display_data"
    },
    {
     "data": {
      "image/png": "[encoded data removed]",
      "text/plain": [
       "<matplotlib.figure.Figure at 0x7f454c36fcc0>"
      ]
     },
     "metadata": {},
     "output_type": "display_data"
    },
    {
     "data": {
      "image/png": "[encoded data removed]",
      "text/plain": [
       "<matplotlib.figure.Figure at 0x7f454c0b7b38>"
      ]
     },
     "metadata": {},
     "output_type": "display_data"
    },
    {
     "data": {
      "image/png": "[encoded data removed]",
      "text/plain": [
       "<matplotlib.figure.Figure at 0x7f454c39f160>"
      ]
     },
     "metadata": {},
     "output_type": "display_data"
    },
    {
     "data": {
      "image/png": "[encoded data removed]",
      "text/plain": [
       "<matplotlib.figure.Figure at 0x7f454be61ac8>"
      ]
     },
     "metadata": {},
     "output_type": "display_data"
    },
    {
     "data": {
      "image/png": "[encoded data removed]",
      "text/plain": [
       "<matplotlib.figure.Figure at 0x7f454bd85978>"
      ]
     },
     "metadata": {},
     "output_type": "display_data"
    }
   ],
   "source": [
    "# Decide whether fill missing values with median or mean\n",
    "n_dic = {}\n",
    "for nt in n_target:\n",
    "    values = claim.loc[~claim[nt].isnull(), nt].values\n",
    "    n_dic[nt] = values\n",
    "\n",
    "for key in list(n_dic.keys()):\n",
    "    plt.hist(n_dic[key], bins=50)\n",
    "    plt.plot(np.mean(n_dic[key]), 50, 'ro', markersize=10, label='Mean')\n",
    "    plt.plot(np.median(n_dic[key]), 50, 'go', markersize=10, label='Median')\n",
    "    plt.legend(loc=1)\n",
    "    plt.title(key)\n",
    "    plt.show()"
   ]
  },
  {
   "cell_type": "code",
   "execution_count": 13,
   "metadata": {
    "collapsed": true
   },
   "outputs": [],
   "source": [
    "for nt in n_target:\n",
    "    if nt == 'COUNT_TRMT_ITEM':\n",
    "        filling = np.median(claim.loc[~claim[nt].isnull(), nt].values)\n",
    "        claim.loc[claim[nt].isnull(), nt] = filling\n",
    "        claim[nt] = claim[nt].astype(np.float64)\n",
    "    else:\n",
    "        filling = np.mean(claim.loc[~claim[nt].isnull(), nt].values)\n",
    "        claim.loc[claim[nt].isnull(), nt] = filling\n",
    "        claim[nt] = claim[nt].astype(np.float64)"
   ]
  },
  {
   "cell_type": "markdown",
   "metadata": {},
   "source": [
    "## Categorize"
   ]
  },
  {
   "cell_type": "code",
   "execution_count": 14,
   "metadata": {
    "collapsed": false
   },
   "outputs": [],
   "source": [
    "def cate_go(df, colname):\n",
    "    cut = np.linspace(df[colname].min(),df[colname].max(),10)\n",
    "\n",
    "    cate = np.arange(1,10)\n",
    "    df.loc[df[colname] == cut[0], colname] = 0\n",
    "    \n",
    "    for i in range(0,9):\n",
    "        df.loc[ (df[colname] > cut[i]) & (df[colname] <= cut[i+1]), colname] = cate[i]\n",
    "    return df\n",
    "\n",
    "def plot_col(df, colname):\n",
    "    plt.hist(df[colname], bins=100)\n",
    "    plt.plot(np.mean(df[colname]), 50, 'ro', markersize=10, label='Mean')\n",
    "    plt.plot(np.median(df[colname]), 50, 'go', markersize=10, label='Median')\n",
    "    plt.legend(loc=1)\n",
    "    plt.title(colname)\n",
    "    plt.show()"
   ]
  },
  {
   "cell_type": "code",
   "execution_count": 15,
   "metadata": {
    "collapsed": false
   },
   "outputs": [
    {
     "data": {
      "image/png": "[encoded data removed]",
      "text/plain": [
       "<matplotlib.figure.Figure at 0x7f454be8fb00>"
      ]
     },
     "metadata": {},
     "output_type": "display_data"
    }
   ],
   "source": [
    "claim = cate_go(claim, 'PATT_CHRG_TOTA')\n",
    "plot_col(claim, 'PATT_CHRG_TOTA')"
   ]
  },
  {
   "cell_type": "code",
   "execution_count": 16,
   "metadata": {
    "collapsed": false
   },
   "outputs": [
    {
     "data": {
      "image/png": "[encoded data removed]",
      "text/plain": [
       "<matplotlib.figure.Figure at 0x7f454c3f5470>"
      ]
     },
     "metadata": {},
     "output_type": "display_data"
    }
   ],
   "source": [
    "claim = cate_go(claim, 'DSCT_AMT')\n",
    "plot_col(claim, 'DSCT_AMT')"
   ]
  },
  {
   "cell_type": "code",
   "execution_count": 17,
   "metadata": {
    "collapsed": false
   },
   "outputs": [
    {
     "data": {
      "image/png": "[encoded data removed]",
      "text/plain": [
       "<matplotlib.figure.Figure at 0x7f454bd74f60>"
      ]
     },
     "metadata": {},
     "output_type": "display_data"
    },
    {
     "data": {
      "image/png": "[encoded data removed]",
      "text/plain": [
       "<matplotlib.figure.Figure at 0x7f454be98390>"
      ]
     },
     "metadata": {},
     "output_type": "display_data"
    }
   ],
   "source": [
    "claim['SELF_CHAM'] = np.log(claim['SELF_CHAM'])\n",
    "claim.loc[claim['SELF_CHAM'] == -np.inf, 'SELF_CHAM'] = 0\n",
    "claim['SELF_CHAM'] .hist()\n",
    "plt.show()\n",
    "claim = cate_go(claim, 'SELF_CHAM')\n",
    "claim['SELF_CHAM'] .hist()\n",
    "plt.show()"
   ]
  },
  {
   "cell_type": "code",
   "execution_count": 18,
   "metadata": {
    "collapsed": false
   },
   "outputs": [
    {
     "data": {
      "image/png": "[encoded data removed]",
      "text/plain": [
       "<matplotlib.figure.Figure at 0x7f454c3b4ef0>"
      ]
     },
     "metadata": {},
     "output_type": "display_data"
    },
    {
     "data": {
      "image/png": "[encoded data removed]",
      "text/plain": [
       "<matplotlib.figure.Figure at 0x7f454bf00a58>"
      ]
     },
     "metadata": {},
     "output_type": "display_data"
    }
   ],
   "source": [
    "claim['HOUSE_HOSP_DIST'] = np.log(claim['HOUSE_HOSP_DIST'])\n",
    "claim.loc[claim['HOUSE_HOSP_DIST'] == -np.inf, 'HOUSE_HOSP_DIST'] = 0\n",
    "claim['HOUSE_HOSP_DIST'] .hist()\n",
    "plt.show()\n",
    "claim = cate_go(claim, 'HOUSE_HOSP_DIST')\n",
    "claim['HOUSE_HOSP_DIST'] .hist()\n",
    "plt.show()"
   ]
  },
  {
   "cell_type": "code",
   "execution_count": 19,
   "metadata": {
    "collapsed": false
   },
   "outputs": [
    {
     "data": {
      "image/png": "[encoded data removed]",
      "text/plain": [
       "<matplotlib.figure.Figure at 0x7f454c194438>"
      ]
     },
     "metadata": {},
     "output_type": "display_data"
    },
    {
     "data": {
      "image/png": "[encoded data removed]",
      "text/plain": [
       "<matplotlib.figure.Figure at 0x7f454c42e438>"
      ]
     },
     "metadata": {},
     "output_type": "display_data"
    }
   ],
   "source": [
    "claim['NON_PAY'] = np.log(claim['NON_PAY'])\n",
    "claim.loc[claim['NON_PAY'] == -np.inf, 'NON_PAY'] = 0\n",
    "claim['NON_PAY'] .hist()\n",
    "plt.show()\n",
    "claim = cate_go(claim, 'NON_PAY')\n",
    "claim['NON_PAY'] .hist()\n",
    "plt.show()"
   ]
  },
  {
   "cell_type": "markdown",
   "metadata": {},
   "source": [
    "# Step 6"
   ]
  },
  {
   "cell_type": "code",
   "execution_count": 20,
   "metadata": {
    "collapsed": true
   },
   "outputs": [],
   "source": [
    "def year_convert(input):\n",
    "    if input < 0:\n",
    "        return -9999\n",
    "    else:\n",
    "        string_type = str(input)\n",
    "\n",
    "        string_year = string_type[0:4]\n",
    "\n",
    "        return np.float64(string_year)\n",
    "\n",
    "def month_convert(input):\n",
    "    if input < 0 :\n",
    "        return -9999\n",
    "    else:\n",
    "        string_type = str(input)\n",
    "        string_month = string_type[5:]\n",
    "        return np.float64(string_month)\n",
    "\n",
    "def convert(df, colname):\n",
    "    df[colname+'_Y'] = df[colname].apply(year_convert)\n",
    "    df[colname+'_M'] = df[colname].apply(month_convert)\n",
    "\n",
    "    df[colname+'_Y'] =df[colname+'_Y'].astype(np.int64)\n",
    "    df[colname+'_M'] = df[colname+'_M'].astype(np.int64)\n",
    "    return df"
   ]
  },
  {
   "cell_type": "code",
   "execution_count": 21,
   "metadata": {
    "collapsed": false
   },
   "outputs": [],
   "source": [
    "for colname in ['HOSP_OTPA_STDT', 'HOSP_OTPA_ENDT','PAYM_DATE']:\n",
    "    claim = convert(claim, colname)\n",
    "    claim.drop(colname, axis = 1, inplace = True)"
   ]
  },
  {
   "cell_type": "markdown",
   "metadata": {},
   "source": [
    "# Step7"
   ]
  },
  {
   "cell_type": "code",
   "execution_count": 22,
   "metadata": {
    "collapsed": true
   },
   "outputs": [],
   "source": [
    "label_id = cPickle.load(open('./Dump/label_id.pkl', 'rb'))\n",
    "final = pd.merge(claim, label_id, on='CUST_ID')\n",
    "features = final.columns\n",
    "train_set = final.loc[final['DIVIDED_SET'] == 1, features]\n",
    "test_set = final.loc[final['DIVIDED_SET'] == 2, features]"
   ]
  },
  {
   "cell_type": "code",
   "execution_count": 23,
   "metadata": {
    "collapsed": true
   },
   "outputs": [],
   "source": [
    "cPickle.dump(final, open('./Dump/claim.pkl', 'wb'), -1)\n",
    "cPickle.dump(train_set, open('./Dump/claim_train.pkl', 'wb'), -1)\n",
    "cPickle.dump(test_set, open('./Dump/claim_test.pkl', 'wb'), -1)"
   ]
  }
 ],
 "metadata": {
  "anaconda-cloud": {},
  "kernelspec": {
   "display_name": "Python [Root]",
   "language": "python",
   "name": "Python [Root]"
  },
  "language_info": {
   "codemirror_mode": {
    "name": "ipython",
    "version": 3
   },
   "file_extension": ".py",
   "mimetype": "text/x-python",
   "name": "python",
   "nbconvert_exporter": "python",
   "pygments_lexer": "ipython3",
   "version": "3.5.2"
  }
 },
 "nbformat": 4,
 "nbformat_minor": 1
}
