{
 "cells": [
  {
   "cell_type": "code",
   "execution_count": 2,
   "metadata": {
    "collapsed": true
   },
   "outputs": [],
   "source": [
    "import pandas as pd\n",
    "import numpy as np\n",
    "import csv\n",
    "import matplotlib.pyplot as plt\n",
    "% matplotlib inline\n",
    "from six.moves import cPickle\n",
    "from sklearn.preprocessing import LabelEncoder\n",
    "from six.moves import cPickle"
   ]
  },
  {
   "cell_type": "code",
   "execution_count": 3,
   "metadata": {
    "collapsed": false
   },
   "outputs": [],
   "source": [
    "cntt = pd.read_csv('./Data/challenge_Data/BGCON_CNTT_DATA.csv',\n",
    "                          encoding = 'utf-16')"
   ]
  },
  {
   "cell_type": "code",
   "execution_count": 4,
   "metadata": {
    "collapsed": false
   },
   "outputs": [
    {
     "name": "stdout",
     "output_type": "stream",
     "text": [
      "<class 'pandas.core.frame.DataFrame'>\n",
      "RangeIndex: 113010 entries, 0 to 113009\n",
      "Data columns (total 21 columns):\n",
      "POLY_NO           113010 non-null int64\n",
      "CUST_ID           113010 non-null int64\n",
      "CUST_ROLE         113010 non-null int64\n",
      "IRKD_CODE_DTAL    113010 non-null int64\n",
      "IRKD_CODE_ITEM    113010 non-null int64\n",
      "GOOD_CLSF_CDNM    113010 non-null object\n",
      "CNTT_YM           113010 non-null int64\n",
      "CLLT_FP_PRNO      112928 non-null float64\n",
      "REAL_PAYM_TERM    113010 non-null int64\n",
      "SALE_CHNL_CODE    113010 non-null int64\n",
      "CNTT_STAT_CODE    112928 non-null object\n",
      "EXPR_YM           112928 non-null float64\n",
      "EXTN_YM           58793 non-null float64\n",
      "LAPS_YM           21381 non-null float64\n",
      "PAYM_CYCL_CODE    112928 non-null float64\n",
      "MAIN_INSR_AMT     112928 non-null float64\n",
      "SUM_ORIG_PREM     112928 non-null float64\n",
      "RECP_PUBL         112926 non-null float64\n",
      "CNTT_RECP         112926 non-null float64\n",
      "MNTH_INCM_AMT     112928 non-null float64\n",
      "DISTANCE          102454 non-null float64\n",
      "dtypes: float64(11), int64(8), object(2)\n",
      "memory usage: 18.1+ MB\n"
     ]
    }
   ],
   "source": [
    "cntt.info()"
   ]
  },
  {
   "cell_type": "code",
   "execution_count": 12,
   "metadata": {
    "collapsed": false
   },
   "outputs": [
    {
     "data": {
      "text/plain": [
       "3353642.9065015647"
      ]
     },
     "execution_count": 12,
     "metadata": {},
     "output_type": "execute_result"
    }
   ],
   "source": [
    "cntt.MNTH_INCM_AMT.dropna().std()"
   ]
  },
  {
   "cell_type": "code",
   "execution_count": 5,
   "metadata": {
    "collapsed": false
   },
   "outputs": [
    {
     "name": "stderr",
     "output_type": "stream",
     "text": [
      "C:\\Anaconda3\\lib\\site-packages\\numpy\\lib\\function_base.py:3834: RuntimeWarning: Invalid value encountered in percentile\n",
      "  RuntimeWarning)\n"
     ]
    },
    {
     "data": {
      "text/html": [
       "<div>\n",
       "<table border=\"1\" class=\"dataframe\">\n",
       "  <thead>\n",
       "    <tr style=\"text-align: right;\">\n",
       "      <th></th>\n",
       "      <th>POLY_NO</th>\n",
       "      <th>CUST_ID</th>\n",
       "      <th>CUST_ROLE</th>\n",
       "      <th>IRKD_CODE_DTAL</th>\n",
       "      <th>IRKD_CODE_ITEM</th>\n",
       "      <th>CNTT_YM</th>\n",
       "      <th>CLLT_FP_PRNO</th>\n",
       "      <th>REAL_PAYM_TERM</th>\n",
       "      <th>SALE_CHNL_CODE</th>\n",
       "      <th>EXPR_YM</th>\n",
       "      <th>EXTN_YM</th>\n",
       "      <th>LAPS_YM</th>\n",
       "      <th>PAYM_CYCL_CODE</th>\n",
       "      <th>MAIN_INSR_AMT</th>\n",
       "      <th>SUM_ORIG_PREM</th>\n",
       "      <th>RECP_PUBL</th>\n",
       "      <th>CNTT_RECP</th>\n",
       "      <th>MNTH_INCM_AMT</th>\n",
       "      <th>DISTANCE</th>\n",
       "    </tr>\n",
       "  </thead>\n",
       "  <tbody>\n",
       "    <tr>\n",
       "      <th>count</th>\n",
       "      <td>113010.000000</td>\n",
       "      <td>113010.000000</td>\n",
       "      <td>113010.000000</td>\n",
       "      <td>113010.000000</td>\n",
       "      <td>113010.000000</td>\n",
       "      <td>113010.000000</td>\n",
       "      <td>1.129280e+05</td>\n",
       "      <td>113010.000000</td>\n",
       "      <td>113010.000000</td>\n",
       "      <td>112928.000000</td>\n",
       "      <td>58793.000000</td>\n",
       "      <td>21381.000000</td>\n",
       "      <td>112928.000000</td>\n",
       "      <td>1.129280e+05</td>\n",
       "      <td>1.129280e+05</td>\n",
       "      <td>112926.000000</td>\n",
       "      <td>112926.000000</td>\n",
       "      <td>1.129280e+05</td>\n",
       "      <td>102454.000000</td>\n",
       "    </tr>\n",
       "    <tr>\n",
       "      <th>mean</th>\n",
       "      <td>56362.036793</td>\n",
       "      <td>10995.734475</td>\n",
       "      <td>1.945704</td>\n",
       "      <td>1468.108716</td>\n",
       "      <td>54.818344</td>\n",
       "      <td>200629.529670</td>\n",
       "      <td>6.853475e+04</td>\n",
       "      <td>32.066277</td>\n",
       "      <td>1.431528</td>\n",
       "      <td>621658.182258</td>\n",
       "      <td>200838.797289</td>\n",
       "      <td>200845.710304</td>\n",
       "      <td>1.452049</td>\n",
       "      <td>3.049705e+07</td>\n",
       "      <td>5.473286e+05</td>\n",
       "      <td>1.042346</td>\n",
       "      <td>1.869198</td>\n",
       "      <td>2.305929e+06</td>\n",
       "      <td>37.129600</td>\n",
       "    </tr>\n",
       "    <tr>\n",
       "      <th>std</th>\n",
       "      <td>32553.620589</td>\n",
       "      <td>6488.041214</td>\n",
       "      <td>3.484196</td>\n",
       "      <td>210.523998</td>\n",
       "      <td>146.907476</td>\n",
       "      <td>498.441181</td>\n",
       "      <td>2.304084e+06</td>\n",
       "      <td>137.161183</td>\n",
       "      <td>1.227679</td>\n",
       "      <td>398118.645952</td>\n",
       "      <td>485.321717</td>\n",
       "      <td>487.203584</td>\n",
       "      <td>2.308805</td>\n",
       "      <td>3.623059e+07</td>\n",
       "      <td>4.544866e+06</td>\n",
       "      <td>4.084199</td>\n",
       "      <td>14.639717</td>\n",
       "      <td>3.353643e+06</td>\n",
       "      <td>75.858356</td>\n",
       "    </tr>\n",
       "    <tr>\n",
       "      <th>min</th>\n",
       "      <td>1.000000</td>\n",
       "      <td>1.000000</td>\n",
       "      <td>0.000000</td>\n",
       "      <td>1078.000000</td>\n",
       "      <td>1.000000</td>\n",
       "      <td>199504.000000</td>\n",
       "      <td>2.000000e+00</td>\n",
       "      <td>0.000000</td>\n",
       "      <td>1.000000</td>\n",
       "      <td>196007.000000</td>\n",
       "      <td>199801.000000</td>\n",
       "      <td>199804.000000</td>\n",
       "      <td>0.000000</td>\n",
       "      <td>0.000000e+00</td>\n",
       "      <td>3.000000e+01</td>\n",
       "      <td>-1.000000</td>\n",
       "      <td>0.000000</td>\n",
       "      <td>0.000000e+00</td>\n",
       "      <td>0.000000</td>\n",
       "    </tr>\n",
       "    <tr>\n",
       "      <th>25%</th>\n",
       "      <td>28164.250000</td>\n",
       "      <td>5295.250000</td>\n",
       "      <td>1.000000</td>\n",
       "      <td>1257.000000</td>\n",
       "      <td>4.000000</td>\n",
       "      <td>200207.000000</td>\n",
       "      <td>NaN</td>\n",
       "      <td>7.000000</td>\n",
       "      <td>1.000000</td>\n",
       "      <td>NaN</td>\n",
       "      <td>NaN</td>\n",
       "      <td>NaN</td>\n",
       "      <td>NaN</td>\n",
       "      <td>NaN</td>\n",
       "      <td>NaN</td>\n",
       "      <td>NaN</td>\n",
       "      <td>NaN</td>\n",
       "      <td>NaN</td>\n",
       "      <td>NaN</td>\n",
       "    </tr>\n",
       "    <tr>\n",
       "      <th>50%</th>\n",
       "      <td>56348.500000</td>\n",
       "      <td>11211.000000</td>\n",
       "      <td>1.000000</td>\n",
       "      <td>1603.000000</td>\n",
       "      <td>13.000000</td>\n",
       "      <td>200607.500000</td>\n",
       "      <td>NaN</td>\n",
       "      <td>10.000000</td>\n",
       "      <td>1.000000</td>\n",
       "      <td>NaN</td>\n",
       "      <td>NaN</td>\n",
       "      <td>NaN</td>\n",
       "      <td>NaN</td>\n",
       "      <td>NaN</td>\n",
       "      <td>NaN</td>\n",
       "      <td>NaN</td>\n",
       "      <td>NaN</td>\n",
       "      <td>NaN</td>\n",
       "      <td>NaN</td>\n",
       "    </tr>\n",
       "    <tr>\n",
       "      <th>75%</th>\n",
       "      <td>84557.750000</td>\n",
       "      <td>16552.000000</td>\n",
       "      <td>2.000000</td>\n",
       "      <td>1627.000000</td>\n",
       "      <td>38.000000</td>\n",
       "      <td>201011.000000</td>\n",
       "      <td>NaN</td>\n",
       "      <td>20.000000</td>\n",
       "      <td>1.000000</td>\n",
       "      <td>NaN</td>\n",
       "      <td>NaN</td>\n",
       "      <td>NaN</td>\n",
       "      <td>NaN</td>\n",
       "      <td>NaN</td>\n",
       "      <td>NaN</td>\n",
       "      <td>NaN</td>\n",
       "      <td>NaN</td>\n",
       "      <td>NaN</td>\n",
       "      <td>NaN</td>\n",
       "    </tr>\n",
       "    <tr>\n",
       "      <th>max</th>\n",
       "      <td>112769.000000</td>\n",
       "      <td>22400.000000</td>\n",
       "      <td>21.000000</td>\n",
       "      <td>1821.000000</td>\n",
       "      <td>847.000000</td>\n",
       "      <td>201605.000000</td>\n",
       "      <td>1.000000e+08</td>\n",
       "      <td>999.000000</td>\n",
       "      <td>7.000000</td>\n",
       "      <td>999912.000000</td>\n",
       "      <td>201607.000000</td>\n",
       "      <td>201606.000000</td>\n",
       "      <td>12.000000</td>\n",
       "      <td>1.850000e+09</td>\n",
       "      <td>5.000000e+08</td>\n",
       "      <td>363.000000</td>\n",
       "      <td>655.000000</td>\n",
       "      <td>3.500000e+08</td>\n",
       "      <td>747.000000</td>\n",
       "    </tr>\n",
       "  </tbody>\n",
       "</table>\n",
       "</div>"
      ],
      "text/plain": [
       "             POLY_NO        CUST_ID      CUST_ROLE  IRKD_CODE_DTAL  \\\n",
       "count  113010.000000  113010.000000  113010.000000   113010.000000   \n",
       "mean    56362.036793   10995.734475       1.945704     1468.108716   \n",
       "std     32553.620589    6488.041214       3.484196      210.523998   \n",
       "min         1.000000       1.000000       0.000000     1078.000000   \n",
       "25%     28164.250000    5295.250000       1.000000     1257.000000   \n",
       "50%     56348.500000   11211.000000       1.000000     1603.000000   \n",
       "75%     84557.750000   16552.000000       2.000000     1627.000000   \n",
       "max    112769.000000   22400.000000      21.000000     1821.000000   \n",
       "\n",
       "       IRKD_CODE_ITEM        CNTT_YM  CLLT_FP_PRNO  REAL_PAYM_TERM  \\\n",
       "count   113010.000000  113010.000000  1.129280e+05   113010.000000   \n",
       "mean        54.818344  200629.529670  6.853475e+04       32.066277   \n",
       "std        146.907476     498.441181  2.304084e+06      137.161183   \n",
       "min          1.000000  199504.000000  2.000000e+00        0.000000   \n",
       "25%          4.000000  200207.000000           NaN        7.000000   \n",
       "50%         13.000000  200607.500000           NaN       10.000000   \n",
       "75%         38.000000  201011.000000           NaN       20.000000   \n",
       "max        847.000000  201605.000000  1.000000e+08      999.000000   \n",
       "\n",
       "       SALE_CHNL_CODE        EXPR_YM        EXTN_YM        LAPS_YM  \\\n",
       "count   113010.000000  112928.000000   58793.000000   21381.000000   \n",
       "mean         1.431528  621658.182258  200838.797289  200845.710304   \n",
       "std          1.227679  398118.645952     485.321717     487.203584   \n",
       "min          1.000000  196007.000000  199801.000000  199804.000000   \n",
       "25%          1.000000            NaN            NaN            NaN   \n",
       "50%          1.000000            NaN            NaN            NaN   \n",
       "75%          1.000000            NaN            NaN            NaN   \n",
       "max          7.000000  999912.000000  201607.000000  201606.000000   \n",
       "\n",
       "       PAYM_CYCL_CODE  MAIN_INSR_AMT  SUM_ORIG_PREM      RECP_PUBL  \\\n",
       "count   112928.000000   1.129280e+05   1.129280e+05  112926.000000   \n",
       "mean         1.452049   3.049705e+07   5.473286e+05       1.042346   \n",
       "std          2.308805   3.623059e+07   4.544866e+06       4.084199   \n",
       "min          0.000000   0.000000e+00   3.000000e+01      -1.000000   \n",
       "25%               NaN            NaN            NaN            NaN   \n",
       "50%               NaN            NaN            NaN            NaN   \n",
       "75%               NaN            NaN            NaN            NaN   \n",
       "max         12.000000   1.850000e+09   5.000000e+08     363.000000   \n",
       "\n",
       "           CNTT_RECP  MNTH_INCM_AMT       DISTANCE  \n",
       "count  112926.000000   1.129280e+05  102454.000000  \n",
       "mean        1.869198   2.305929e+06      37.129600  \n",
       "std        14.639717   3.353643e+06      75.858356  \n",
       "min         0.000000   0.000000e+00       0.000000  \n",
       "25%              NaN            NaN            NaN  \n",
       "50%              NaN            NaN            NaN  \n",
       "75%              NaN            NaN            NaN  \n",
       "max       655.000000   3.500000e+08     747.000000  "
      ]
     },
     "execution_count": 5,
     "metadata": {},
     "output_type": "execute_result"
    }
   ],
   "source": [
    "cntt.describe()"
   ]
  },
  {
   "cell_type": "markdown",
   "metadata": {},
   "source": [
    "# Step1"
   ]
  },
  {
   "cell_type": "code",
   "execution_count": 4,
   "metadata": {
    "collapsed": true
   },
   "outputs": [],
   "source": [
    "description = pd.read_excel('./Data/challenge_Data/description.xlsx', sheetname='BGCON_CNTT_DATA')\n",
    "categorical = list(description.loc[description['변수타입'] == 'C', '변수영문명'])\n",
    "numerical = list(description.loc[description['변수타입'] == 'N', '변수영문명'])"
   ]
  },
  {
   "cell_type": "code",
   "execution_count": 5,
   "metadata": {
    "collapsed": false
   },
   "outputs": [],
   "source": [
    "features = list(cntt.columns)\n",
    "target = []\n",
    "for feature in features:\n",
    "    if cntt[feature].isnull().sum() != 0:\n",
    "        target.append(feature)"
   ]
  },
  {
   "cell_type": "code",
   "execution_count": 6,
   "metadata": {
    "collapsed": false
   },
   "outputs": [],
   "source": [
    "n_target = set(target).intersection(set(numerical))\n",
    "c_target = set(target).intersection(set(categorical))\n",
    "n_target = list(n_target)\n",
    "c_target = list(c_target)"
   ]
  },
  {
   "cell_type": "code",
   "execution_count": 7,
   "metadata": {
    "collapsed": false
   },
   "outputs": [
    {
     "name": "stdout",
     "output_type": "stream",
     "text": [
      "Missing Numerical :  ['MAIN_INSR_AMT', 'MNTH_INCM_AMT', 'SUM_ORIG_PREM', 'DISTANCE', 'CNTT_RECP', 'RECP_PUBL']\n",
      "Missing Categorical :  ['CNTT_STAT_CODE', 'LAPS_YM', 'CLLT_FP_PRNO', 'PAYM_CYCL_CODE', 'EXTN_YM', 'EXPR_YM']\n"
     ]
    }
   ],
   "source": [
    "print('Missing Numerical : ', n_target)\n",
    "print('Missing Categorical : ', c_target)"
   ]
  },
  {
   "cell_type": "markdown",
   "metadata": {},
   "source": [
    "# Step2\n",
    "- Skip because there is no missing value in 'Real_Paym_Term'"
   ]
  },
  {
   "cell_type": "markdown",
   "metadata": {},
   "source": [
    "# Step3"
   ]
  },
  {
   "cell_type": "code",
   "execution_count": 8,
   "metadata": {
    "collapsed": false
   },
   "outputs": [
    {
     "data": {
      "image/png": "[encoded data removed]",
      "text/plain": [
       "<matplotlib.figure.Figure at 0x7f248b9c6da0>"
      ]
     },
     "metadata": {},
     "output_type": "display_data"
    },
    {
     "data": {
      "image/png": "[encoded data removed]",
      "text/plain": [
       "<matplotlib.figure.Figure at 0x7f248b828550>"
      ]
     },
     "metadata": {},
     "output_type": "display_data"
    },
    {
     "data": {
      "image/png": "[encoded data removed]",
      "text/plain": [
       "<matplotlib.figure.Figure at 0x7f248b948470>"
      ]
     },
     "metadata": {},
     "output_type": "display_data"
    },
    {
     "data": {
      "image/png": "[encoded data removed]",
      "text/plain": [
       "<matplotlib.figure.Figure at 0x7f248b7530f0>"
      ]
     },
     "metadata": {},
     "output_type": "display_data"
    },
    {
     "data": {
      "image/png": "[encoded data removed]",
      "text/plain": [
       "<matplotlib.figure.Figure at 0x7f248b5ef940>"
      ]
     },
     "metadata": {},
     "output_type": "display_data"
    },
    {
     "data": {
      "image/png": "[encoded data removed]",
      "text/plain": [
       "<matplotlib.figure.Figure at 0x7f248b5086a0>"
      ]
     },
     "metadata": {},
     "output_type": "display_data"
    }
   ],
   "source": [
    "# Decide whether fill missing values with median or mean\n",
    "n_dic = {}\n",
    "for nt in n_target:\n",
    "    values = cntt.loc[~cntt[nt].isnull(), nt].values\n",
    "    n_dic[nt] = values\n",
    "\n",
    "for key in list(n_dic.keys()):\n",
    "    plt.hist(n_dic[key], bins=50)\n",
    "    plt.plot(np.mean(n_dic[key]), 50, 'ro', markersize=10, label='Mean')\n",
    "    plt.plot(np.median(n_dic[key]), 50, 'go', markersize=10, label='Median')\n",
    "    plt.legend(loc=1)\n",
    "    plt.title(key)\n",
    "    plt.show()"
   ]
  },
  {
   "cell_type": "code",
   "execution_count": 9,
   "metadata": {
    "collapsed": true
   },
   "outputs": [],
   "source": [
    "# Seems filling with median values is plausible\n",
    "for nt in n_target:\n",
    "    filling = np.median(cntt.loc[~cntt[nt].isnull(), nt].values)\n",
    "    cntt.loc[cntt[nt].isnull(), nt] = filling"
   ]
  },
  {
   "cell_type": "code",
   "execution_count": 10,
   "metadata": {
    "collapsed": true
   },
   "outputs": [],
   "source": [
    "def cate_go(df, colname):\n",
    "    cut = np.linspace(df[colname].min(),df[colname].max(),10)\n",
    "\n",
    "    cate = np.arange(1,10)\n",
    "    df.loc[df[colname] == cut[0], colname] = 0\n",
    "    \n",
    "    for i in range(0,9):\n",
    "        df.loc[ (df[colname] > cut[i]) & (df[colname] <= cut[i+1]), colname] = cate[i]\n",
    "    return df\n",
    "\n",
    "def plot_col(df, colname):\n",
    "    plt.hist(df[colname], bins=100)\n",
    "    plt.plot(np.mean(df[colname]), 50, 'ro', markersize=10, label='Mean')\n",
    "    plt.plot(np.median(df[colname]), 50, 'go', markersize=10, label='Median')\n",
    "    plt.legend(loc=1)\n",
    "    plt.title(colname)\n",
    "    plt.show()"
   ]
  },
  {
   "cell_type": "code",
   "execution_count": 11,
   "metadata": {
    "collapsed": false
   },
   "outputs": [
    {
     "data": {
      "image/png": "[encoded data removed]",
      "text/plain": [
       "<matplotlib.figure.Figure at 0x7f248b495748>"
      ]
     },
     "metadata": {},
     "output_type": "display_data"
    }
   ],
   "source": [
    "cntt = cate_go(cntt, 'DISTANCE')\n",
    "plot_col(cntt, 'DISTANCE')\n"
   ]
  },
  {
   "cell_type": "code",
   "execution_count": 12,
   "metadata": {
    "collapsed": false
   },
   "outputs": [
    {
     "data": {
      "image/png": "[encoded data removed]",
      "text/plain": [
       "<matplotlib.figure.Figure at 0x7f248b4c8390>"
      ]
     },
     "metadata": {},
     "output_type": "display_data"
    },
    {
     "data": {
      "image/png": "[encoded data removed]",
      "text/plain": [
       "<matplotlib.figure.Figure at 0x7f248b4ce4e0>"
      ]
     },
     "metadata": {},
     "output_type": "display_data"
    }
   ],
   "source": [
    "cntt['MAIN_INSR_AMT'] = np.log(cntt['MAIN_INSR_AMT'])\n",
    "cntt.loc[cntt['MAIN_INSR_AMT'] == -np.inf, 'MAIN_INSR_AMT'] = 0\n",
    "plot_col(cntt, 'MAIN_INSR_AMT')\n",
    "cntt = cate_go(cntt, 'MAIN_INSR_AMT')\n",
    "plot_col(cntt, 'MAIN_INSR_AMT')\n"
   ]
  },
  {
   "cell_type": "markdown",
   "metadata": {},
   "source": [
    "# Step4"
   ]
  },
  {
   "cell_type": "code",
   "execution_count": 13,
   "metadata": {
    "collapsed": true
   },
   "outputs": [],
   "source": [
    "# 'CNTT_STAT_CODE' needs special treatment\n",
    "cntt.loc[cntt['CNTT_STAT_CODE'].isnull(), 'CNTT_STAT_CODE'] = '-999'"
   ]
  },
  {
   "cell_type": "code",
   "execution_count": 14,
   "metadata": {
    "collapsed": false
   },
   "outputs": [],
   "source": [
    "X = cntt.loc[cntt['CNTT_STAT_CODE'] != '-999', 'CNTT_STAT_CODE'].values\n",
    "lbl_enc = LabelEncoder()\n",
    "lbl_enc.fit(X)\n",
    "\n",
    "for element in lbl_enc.classes_:\n",
    "    cntt.loc[cntt['CNTT_STAT_CODE'] == element, 'CNTT_STAT_CODE'] = lbl_enc.transform(element)\n",
    "\n",
    "cntt.loc[cntt['CNTT_STAT_CODE'] == '-999', 'CNTT_STAT_CODE'] = -999"
   ]
  },
  {
   "cell_type": "code",
   "execution_count": 15,
   "metadata": {
    "collapsed": false
   },
   "outputs": [],
   "source": [
    "cntt['CNTT_STAT_CODE'] = cntt['CNTT_STAT_CODE'].astype(np.int64)"
   ]
  },
  {
   "cell_type": "code",
   "execution_count": 16,
   "metadata": {
    "collapsed": false
   },
   "outputs": [],
   "source": [
    "# Labeling 'GOOD_CLSF_CDNM' \n",
    "X = cntt['GOOD_CLSF_CDNM'].values\n",
    "lbl_enc = LabelEncoder()\n",
    "lbl_enc.fit(X)\n",
    "\n",
    "for element in lbl_enc.classes_:\n",
    "    cntt.loc[cntt['GOOD_CLSF_CDNM'] == element, 'GOOD_CLSF_CDNM'] = lbl_enc.transform(element)"
   ]
  },
  {
   "cell_type": "code",
   "execution_count": 17,
   "metadata": {
    "collapsed": false
   },
   "outputs": [],
   "source": [
    "cntt['GOOD_CLSF_CDNM'] = cntt['GOOD_CLSF_CDNM'].astype(np.int64)"
   ]
  },
  {
   "cell_type": "markdown",
   "metadata": {},
   "source": [
    "# Step5"
   ]
  },
  {
   "cell_type": "code",
   "execution_count": 18,
   "metadata": {
    "collapsed": false
   },
   "outputs": [],
   "source": [
    "c_target.remove('CNTT_STAT_CODE')"
   ]
  },
  {
   "cell_type": "code",
   "execution_count": 19,
   "metadata": {
    "collapsed": true
   },
   "outputs": [],
   "source": [
    "for ct in c_target:\n",
    "    cntt.loc[cntt[ct].isnull(), ct] = -999"
   ]
  },
  {
   "cell_type": "code",
   "execution_count": 20,
   "metadata": {
    "collapsed": false
   },
   "outputs": [
    {
     "name": "stdout",
     "output_type": "stream",
     "text": [
      "<class 'pandas.core.frame.DataFrame'>\n",
      "RangeIndex: 113010 entries, 0 to 113009\n",
      "Data columns (total 21 columns):\n",
      "POLY_NO           113010 non-null int64\n",
      "CUST_ID           113010 non-null int64\n",
      "CUST_ROLE         113010 non-null int64\n",
      "IRKD_CODE_DTAL    113010 non-null int64\n",
      "IRKD_CODE_ITEM    113010 non-null int64\n",
      "GOOD_CLSF_CDNM    113010 non-null int64\n",
      "CNTT_YM           113010 non-null int64\n",
      "CLLT_FP_PRNO      113010 non-null float64\n",
      "REAL_PAYM_TERM    113010 non-null int64\n",
      "SALE_CHNL_CODE    113010 non-null int64\n",
      "CNTT_STAT_CODE    113010 non-null int64\n",
      "EXPR_YM           113010 non-null float64\n",
      "EXTN_YM           113010 non-null float64\n",
      "LAPS_YM           113010 non-null float64\n",
      "PAYM_CYCL_CODE    113010 non-null float64\n",
      "MAIN_INSR_AMT     113010 non-null float64\n",
      "SUM_ORIG_PREM     113010 non-null float64\n",
      "RECP_PUBL         113010 non-null float64\n",
      "CNTT_RECP         113010 non-null float64\n",
      "MNTH_INCM_AMT     113010 non-null float64\n",
      "DISTANCE          113010 non-null float64\n",
      "dtypes: float64(11), int64(10)\n",
      "memory usage: 18.1 MB\n"
     ]
    }
   ],
   "source": [
    "cntt.info()"
   ]
  },
  {
   "cell_type": "markdown",
   "metadata": {},
   "source": [
    "# Step 6"
   ]
  },
  {
   "cell_type": "code",
   "execution_count": 21,
   "metadata": {
    "collapsed": true
   },
   "outputs": [],
   "source": [
    "def year_convert(input):\n",
    "    if input < 0:\n",
    "        return -9999\n",
    "    else:\n",
    "        string_type = str(input)\n",
    "\n",
    "        string_year = string_type[0:4]\n",
    "\n",
    "        return np.float64(string_year)\n",
    "\n",
    "def month_convert(input):\n",
    "    if input < 0 :\n",
    "        return -9999\n",
    "    else:\n",
    "        string_type = str(input)\n",
    "        string_month = string_type[5:]\n",
    "        return np.float64(string_month)\n",
    "\n",
    "def convert(df, colname):\n",
    "    df[colname+'_Y'] = df[colname].apply(year_convert)\n",
    "    df[colname+'_M'] = df[colname].apply(month_convert)\n",
    "\n",
    "    df[colname+'_Y'] =df[colname+'_Y'].astype(np.int64)\n",
    "    df[colname+'_M'] = df[colname+'_M'].astype(np.int64)\n",
    "    return df"
   ]
  },
  {
   "cell_type": "code",
   "execution_count": 22,
   "metadata": {
    "collapsed": false
   },
   "outputs": [],
   "source": [
    "for colname in ['CNTT_YM', 'EXPR_YM', 'EXTN_YM', 'LAPS_YM']:\n",
    "    cntt = convert(cntt, colname)\n",
    "    cntt.drop(colname, axis = 1, inplace = True)"
   ]
  },
  {
   "cell_type": "markdown",
   "metadata": {},
   "source": [
    "# Step7"
   ]
  },
  {
   "cell_type": "code",
   "execution_count": 23,
   "metadata": {
    "collapsed": false
   },
   "outputs": [],
   "source": [
    "label_id = cPickle.load(open('./Dump/label_id.pkl', 'rb'))"
   ]
  },
  {
   "cell_type": "code",
   "execution_count": 24,
   "metadata": {
    "collapsed": false
   },
   "outputs": [],
   "source": [
    "cntt = pd.merge(cntt, label_id, on='CUST_ID')\n",
    "features = cntt.columns"
   ]
  },
  {
   "cell_type": "code",
   "execution_count": 25,
   "metadata": {
    "collapsed": false
   },
   "outputs": [],
   "source": [
    "train_set = cntt.loc[cntt['DIVIDED_SET'] == 1, features]\n",
    "test_set = cntt.loc[cntt['DIVIDED_SET'] == 2, features]"
   ]
  },
  {
   "cell_type": "code",
   "execution_count": 26,
   "metadata": {
    "collapsed": true
   },
   "outputs": [],
   "source": [
    "cPickle.dump(cntt, open('./Dump/cntt.pkl', 'wb'), -1)\n",
    "cPickle.dump(train_set, open('./Dump/cntt_train.pkl', 'wb'), -1)\n",
    "cPickle.dump(test_set, open('./Dump/cntt_test.pkl', 'wb'), -1)"
   ]
  }
 ],
 "metadata": {
  "anaconda-cloud": {},
  "kernelspec": {
   "display_name": "Python 3",
   "language": "python",
   "name": "python3"
  },
  "language_info": {
   "codemirror_mode": {
    "name": "ipython",
    "version": 3
   },
   "file_extension": ".py",
   "mimetype": "text/x-python",
   "name": "python",
   "nbconvert_exporter": "python",
   "pygments_lexer": "ipython3",
   "version": "3.4.3"
  }
 },
 "nbformat": 4,
 "nbformat_minor": 1
}
