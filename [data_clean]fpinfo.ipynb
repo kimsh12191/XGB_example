{
 "cells": [
  {
   "cell_type": "code",
   "execution_count": 1,
   "metadata": {
    "collapsed": true
   },
   "outputs": [],
   "source": [
    "import pandas as pd\n",
    "import numpy as np\n",
    "import csv\n",
    "import matplotlib.pyplot as plt\n",
    "% matplotlib inline\n",
    "from six.moves import cPickle\n",
    "from sklearn.preprocessing import LabelEncoder\n",
    "from six.moves import cPickle"
   ]
  },
  {
   "cell_type": "code",
   "execution_count": 2,
   "metadata": {
    "collapsed": false
   },
   "outputs": [],
   "source": [
    "fpinfo = pd.read_csv('./Data/challenge_Data/BGCON_FPINFO_DATA.csv',\n",
    "                          encoding = 'utf-16')"
   ]
  },
  {
   "cell_type": "code",
   "execution_count": 3,
   "metadata": {
    "collapsed": false
   },
   "outputs": [
    {
     "data": {
      "text/html": [
       "<div>\n",
       "<table border=\"1\" class=\"dataframe\">\n",
       "  <thead>\n",
       "    <tr style=\"text-align: right;\">\n",
       "      <th></th>\n",
       "      <th>CLLT_FP_PRNO</th>\n",
       "      <th>INCB_DVSN</th>\n",
       "      <th>ETRS_YM</th>\n",
       "      <th>FIRE_YM</th>\n",
       "      <th>BEFO_JOB</th>\n",
       "      <th>EDGB</th>\n",
       "      <th>BRCH_CODE</th>\n",
       "    </tr>\n",
       "  </thead>\n",
       "  <tbody>\n",
       "    <tr>\n",
       "      <th>0</th>\n",
       "      <td>6200</td>\n",
       "      <td>R</td>\n",
       "      <td>200306</td>\n",
       "      <td>200407</td>\n",
       "      <td>기타</td>\n",
       "      <td>고졸</td>\n",
       "      <td>25.0</td>\n",
       "    </tr>\n",
       "    <tr>\n",
       "      <th>1</th>\n",
       "      <td>2316</td>\n",
       "      <td>R</td>\n",
       "      <td>200104</td>\n",
       "      <td>200904</td>\n",
       "      <td>보험관계인</td>\n",
       "      <td>대학원졸</td>\n",
       "      <td>11.0</td>\n",
       "    </tr>\n",
       "    <tr>\n",
       "      <th>2</th>\n",
       "      <td>6207</td>\n",
       "      <td>R</td>\n",
       "      <td>200306</td>\n",
       "      <td>200311</td>\n",
       "      <td>무직</td>\n",
       "      <td>고졸</td>\n",
       "      <td>32.0</td>\n",
       "    </tr>\n",
       "  </tbody>\n",
       "</table>\n",
       "</div>"
      ],
      "text/plain": [
       "   CLLT_FP_PRNO INCB_DVSN ETRS_YM FIRE_YM BEFO_JOB  EDGB  BRCH_CODE\n",
       "0          6200         R  200306  200407       기타    고졸       25.0\n",
       "1          2316         R  200104  200904    보험관계인  대학원졸       11.0\n",
       "2          6207         R  200306  200311       무직    고졸       32.0"
      ]
     },
     "execution_count": 3,
     "metadata": {},
     "output_type": "execute_result"
    }
   ],
   "source": [
    "fpinfo.head(3)"
   ]
  },
  {
   "cell_type": "code",
   "execution_count": 5,
   "metadata": {
    "collapsed": false
   },
   "outputs": [
    {
     "name": "stderr",
     "output_type": "stream",
     "text": [
      "C:\\Anaconda3\\lib\\site-packages\\numpy\\lib\\function_base.py:3834: RuntimeWarning: Invalid value encountered in percentile\n",
      "  RuntimeWarning)\n"
     ]
    },
    {
     "data": {
      "text/html": [
       "<div>\n",
       "<table border=\"1\" class=\"dataframe\">\n",
       "  <thead>\n",
       "    <tr style=\"text-align: right;\">\n",
       "      <th></th>\n",
       "      <th>CLLT_FP_PRNO</th>\n",
       "      <th>BRCH_CODE</th>\n",
       "    </tr>\n",
       "  </thead>\n",
       "  <tbody>\n",
       "    <tr>\n",
       "      <th>count</th>\n",
       "      <td>3.152200e+04</td>\n",
       "      <td>3.152000e+04</td>\n",
       "    </tr>\n",
       "    <tr>\n",
       "      <th>mean</th>\n",
       "      <td>1.893389e+04</td>\n",
       "      <td>1.621301e+06</td>\n",
       "    </tr>\n",
       "    <tr>\n",
       "      <th>std</th>\n",
       "      <td>5.632242e+05</td>\n",
       "      <td>1.262916e+07</td>\n",
       "    </tr>\n",
       "    <tr>\n",
       "      <th>min</th>\n",
       "      <td>2.000000e+00</td>\n",
       "      <td>3.000000e+00</td>\n",
       "    </tr>\n",
       "    <tr>\n",
       "      <th>25%</th>\n",
       "      <td>7.882250e+03</td>\n",
       "      <td>NaN</td>\n",
       "    </tr>\n",
       "    <tr>\n",
       "      <th>50%</th>\n",
       "      <td>1.576250e+04</td>\n",
       "      <td>NaN</td>\n",
       "    </tr>\n",
       "    <tr>\n",
       "      <th>75%</th>\n",
       "      <td>2.364275e+04</td>\n",
       "      <td>NaN</td>\n",
       "    </tr>\n",
       "    <tr>\n",
       "      <th>max</th>\n",
       "      <td>1.000000e+08</td>\n",
       "      <td>1.000000e+08</td>\n",
       "    </tr>\n",
       "  </tbody>\n",
       "</table>\n",
       "</div>"
      ],
      "text/plain": [
       "       CLLT_FP_PRNO     BRCH_CODE\n",
       "count  3.152200e+04  3.152000e+04\n",
       "mean   1.893389e+04  1.621301e+06\n",
       "std    5.632242e+05  1.262916e+07\n",
       "min    2.000000e+00  3.000000e+00\n",
       "25%    7.882250e+03           NaN\n",
       "50%    1.576250e+04           NaN\n",
       "75%    2.364275e+04           NaN\n",
       "max    1.000000e+08  1.000000e+08"
      ]
     },
     "execution_count": 5,
     "metadata": {},
     "output_type": "execute_result"
    }
   ],
   "source": [
    "fpinfo.describe()"
   ]
  },
  {
   "cell_type": "code",
   "execution_count": 4,
   "metadata": {
    "collapsed": false
   },
   "outputs": [
    {
     "name": "stdout",
     "output_type": "stream",
     "text": [
      "<class 'pandas.core.frame.DataFrame'>\n",
      "RangeIndex: 31522 entries, 0 to 31521\n",
      "Data columns (total 7 columns):\n",
      "CLLT_FP_PRNO    31522 non-null int64\n",
      "INCB_DVSN       31520 non-null object\n",
      "ETRS_YM         31522 non-null object\n",
      "FIRE_YM         31522 non-null object\n",
      "BEFO_JOB        31266 non-null object\n",
      "EDGB            31266 non-null object\n",
      "BRCH_CODE       31520 non-null float64\n",
      "dtypes: float64(1), int64(1), object(5)\n",
      "memory usage: 1.7+ MB\n"
     ]
    }
   ],
   "source": [
    "fpinfo.info()"
   ]
  },
  {
   "cell_type": "code",
   "execution_count": 5,
   "metadata": {
    "collapsed": false
   },
   "outputs": [],
   "source": [
    "string_type = ['INCB_DVSN', 'BEFO_JOB', 'EDGB']\n",
    "for st in string_type:\n",
    "    X = fpinfo.loc[~fpinfo[st].isnull(), st].values\n",
    "    fpinfo.loc[fpinfo[st].isnull(), st] = '-999'\n",
    "    lbl_enc = LabelEncoder()\n",
    "    lbl_enc.fit(X)\n",
    "    for element in lbl_enc.classes_:\n",
    "        fpinfo.loc[fpinfo[st] == element, st] = lbl_enc.transform(element)\n",
    "    fpinfo.loc[fpinfo[st] == '-999', st] = -999\n",
    "    fpinfo[st] = fpinfo[st].astype(np.int64)"
   ]
  },
  {
   "cell_type": "code",
   "execution_count": 6,
   "metadata": {
    "collapsed": false
   },
   "outputs": [],
   "source": [
    "conversion = ['ETRS_YM', 'FIRE_YM']\n",
    "for c in conversion:\n",
    "    fpinfo.loc[fpinfo[c] == '      ', c] = -999\n",
    "    fpinfo.loc[fpinfo[c] == '#', c] = -999\n",
    "    fpinfo[c] = fpinfo[c].astype(np.int64)"
   ]
  },
  {
   "cell_type": "code",
   "execution_count": 7,
   "metadata": {
    "collapsed": true
   },
   "outputs": [],
   "source": [
    "def year_convert(input):\n",
    "    if input < 0:\n",
    "        return -9999\n",
    "    else:\n",
    "        string_type = str(input)\n",
    "\n",
    "        string_year = string_type[0:4]\n",
    "\n",
    "        return np.float64(string_year)\n",
    "\n",
    "def month_convert(input):\n",
    "    if input < 0 :\n",
    "        return -9999\n",
    "    else:\n",
    "        string_type = str(input)\n",
    "        string_month = string_type[5:]\n",
    "        return np.float64(string_month)\n",
    "\n",
    "def convert(df, colname):\n",
    "    df[colname+'_Y'] = df[colname].apply(year_convert)\n",
    "    df[colname+'_M'] = df[colname].apply(month_convert)\n",
    "\n",
    "    df[colname+'_Y'] =df[colname+'_Y'].astype(np.int64)\n",
    "    df[colname+'_M'] = df[colname+'_M'].astype(np.int64)\n",
    "    return df"
   ]
  },
  {
   "cell_type": "code",
   "execution_count": 8,
   "metadata": {
    "collapsed": true
   },
   "outputs": [],
   "source": [
    "for colname in ['ETRS_YM', 'FIRE_YM']:\n",
    "    fpinfo = convert(fpinfo, colname)\n",
    "    fpinfo.drop(colname, axis = 1, inplace = True)"
   ]
  },
  {
   "cell_type": "code",
   "execution_count": 9,
   "metadata": {
    "collapsed": true
   },
   "outputs": [],
   "source": [
    "fpinfo.loc[fpinfo['BRCH_CODE'].isnull(), 'BRCH_CODE'] = -999"
   ]
  },
  {
   "cell_type": "code",
   "execution_count": 10,
   "metadata": {
    "collapsed": false
   },
   "outputs": [],
   "source": [
    "cPickle.dump(fpinfo, open('./Dump/fpinfo.pkl', 'wb'), -1)"
   ]
  }
 ],
 "metadata": {
  "anaconda-cloud": {},
  "kernelspec": {
   "display_name": "Python [Root]",
   "language": "python",
   "name": "Python [Root]"
  },
  "language_info": {
   "codemirror_mode": {
    "name": "ipython",
    "version": 3
   },
   "file_extension": ".py",
   "mimetype": "text/x-python",
   "name": "python",
   "nbconvert_exporter": "python",
   "pygments_lexer": "ipython3",
   "version": "3.5.2"
  }
 },
 "nbformat": 4,
 "nbformat_minor": 1
}
