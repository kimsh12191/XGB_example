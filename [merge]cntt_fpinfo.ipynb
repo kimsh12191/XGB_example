{
 "cells": [
  {
   "cell_type": "code",
   "execution_count": 1,
   "metadata": {
    "collapsed": true
   },
   "outputs": [],
   "source": [
    "import pandas as pd\n",
    "import numpy as np\n",
    "import csv\n",
    "import matplotlib.pyplot as plt\n",
    "% matplotlib inline\n",
    "from six.moves import cPickle\n",
    "from sklearn.preprocessing import LabelEncoder\n",
    "from six.moves import cPickle\n",
    "import xgboost as xgb\n",
    "from sklearn.cross_validation import StratifiedKFold\n",
    "import graphviz"
   ]
  },
  {
   "cell_type": "code",
   "execution_count": 2,
   "metadata": {
    "collapsed": false
   },
   "outputs": [],
   "source": [
    "cntt = cPickle.load(open('./Dump/cntt.pkl', 'rb'))\n",
    "fpinfo = cPickle.load(open('./Dump/fpinfo.pkl', 'rb'))"
   ]
  },
  {
   "cell_type": "code",
   "execution_count": 3,
   "metadata": {
    "collapsed": false
   },
   "outputs": [],
   "source": [
    "target = fpinfo.columns\n",
    "cntt_fpinfo = pd.merge(cntt, fpinfo, on='CLLT_FP_PRNO', how='inner')"
   ]
  },
  {
   "cell_type": "code",
   "execution_count": 4,
   "metadata": {
    "collapsed": true
   },
   "outputs": [],
   "source": [
    "features = cntt_fpinfo.columns\n",
    "train = cntt_fpinfo.loc[cntt_fpinfo['DIVIDED_SET'] == 1, features]\n",
    "test = cntt_fpinfo.loc[cntt_fpinfo['DIVIDED_SET'] == 2, features]\n",
    "cPickle.dump(cntt_fpinfo, open('./Dump/cntt_fpinfo.pkl', 'wb'), -1)\n",
    "cPickle.dump(train, open('./Dump/cntt_fpinfo_train.pkl', 'wb'), -1)\n",
    "cPickle.dump(test, open('./Dump/cntt_fpinfo_test.pkl', 'wb'), -1)"
   ]
  },
  {
   "cell_type": "code",
   "execution_count": 5,
   "metadata": {
    "collapsed": true
   },
   "outputs": [],
   "source": [
    "y = train['SIU_CUST_YN'].values\n",
    "skf = StratifiedKFold(y, n_folds=10)\n",
    "train_idx, valid_idx = next(iter(skf))"
   ]
  },
  {
   "cell_type": "code",
   "execution_count": 6,
   "metadata": {
    "collapsed": false
   },
   "outputs": [
    {
     "name": "stdout",
     "output_type": "stream",
     "text": [
      "<class 'pandas.core.frame.DataFrame'>\n",
      "Int64Index: 112928 entries, 0 to 112927\n",
      "Data columns (total 35 columns):\n",
      "POLY_NO           112928 non-null int64\n",
      "CUST_ID           112928 non-null int64\n",
      "CUST_ROLE         112928 non-null int64\n",
      "IRKD_CODE_DTAL    112928 non-null int64\n",
      "IRKD_CODE_ITEM    112928 non-null int64\n",
      "GOOD_CLSF_CDNM    112928 non-null int64\n",
      "CLLT_FP_PRNO      112928 non-null float64\n",
      "REAL_PAYM_TERM    112928 non-null int64\n",
      "SALE_CHNL_CODE    112928 non-null int64\n",
      "CNTT_STAT_CODE    112928 non-null int64\n",
      "PAYM_CYCL_CODE    112928 non-null float64\n",
      "MAIN_INSR_AMT     112928 non-null float64\n",
      "SUM_ORIG_PREM     112928 non-null float64\n",
      "RECP_PUBL         112928 non-null float64\n",
      "CNTT_RECP         112928 non-null float64\n",
      "MNTH_INCM_AMT     112928 non-null float64\n",
      "DISTANCE          112928 non-null float64\n",
      "CNTT_YM_Y         112928 non-null int64\n",
      "CNTT_YM_M         112928 non-null int64\n",
      "EXPR_YM_Y         112928 non-null int64\n",
      "EXPR_YM_M         112928 non-null int64\n",
      "EXTN_YM_Y         112928 non-null int64\n",
      "EXTN_YM_M         112928 non-null int64\n",
      "LAPS_YM_Y         112928 non-null int64\n",
      "LAPS_YM_M         112928 non-null int64\n",
      "DIVIDED_SET       112928 non-null float64\n",
      "SIU_CUST_YN       103942 non-null object\n",
      "INCB_DVSN         112928 non-null int64\n",
      "BEFO_JOB          112928 non-null int64\n",
      "EDGB              112928 non-null int64\n",
      "BRCH_CODE         112928 non-null float64\n",
      "ETRS_YM_Y         112928 non-null int64\n",
      "ETRS_YM_M         112928 non-null int64\n",
      "FIRE_YM_Y         112928 non-null int64\n",
      "FIRE_YM_M         112928 non-null int64\n",
      "dtypes: float64(10), int64(24), object(1)\n",
      "memory usage: 31.0+ MB\n"
     ]
    }
   ],
   "source": [
    "cntt_fpinfo.info()"
   ]
  },
  {
   "cell_type": "code",
   "execution_count": 7,
   "metadata": {
    "collapsed": false
   },
   "outputs": [
    {
     "name": "stderr",
     "output_type": "stream",
     "text": [
      "/home/isystems/Dropbox/Unist_iSystem/[2016]2summer/Cowork/suhyun/suvenv/lib/python3.4/site-packages/ipykernel/__main__.py:6: SettingWithCopyWarning: \n",
      "A value is trying to be set on a copy of a slice from a DataFrame\n",
      "\n",
      "See the caveats in the documentation: http://pandas.pydata.org/pandas-docs/stable/indexing.html#indexing-view-versus-copy\n",
      "/home/isystems/Dropbox/Unist_iSystem/[2016]2summer/Cowork/suhyun/suvenv/lib/python3.4/site-packages/ipykernel/__main__.py:7: SettingWithCopyWarning: \n",
      "A value is trying to be set on a copy of a slice from a DataFrame\n",
      "\n",
      "See the caveats in the documentation: http://pandas.pydata.org/pandas-docs/stable/indexing.html#indexing-view-versus-copy\n"
     ]
    }
   ],
   "source": [
    "# 'POLY_NO' is useless feature\n",
    "X_train = train.iloc[train_idx]\n",
    "X_valid = train.iloc[valid_idx]\n",
    "y_train = X_train['SIU_CUST_YN']\n",
    "y_valid = X_valid['SIU_CUST_YN']\n",
    "X_train.drop(['CUST_ID', 'SIU_CUST_YN', 'DIVIDED_SET'], axis=1, inplace=True)\n",
    "X_valid.drop(['CUST_ID', 'SIU_CUST_YN', 'DIVIDED_SET'], axis=1, inplace=True)"
   ]
  },
  {
   "cell_type": "code",
   "execution_count": 8,
   "metadata": {
    "collapsed": false
   },
   "outputs": [
    {
     "name": "stdout",
     "output_type": "stream",
     "text": [
      "[0]\ttrain-auc:0.624912\teval-auc:0.565365\n",
      "Multiple eval metrics have been passed: 'eval-auc' will be used for early stopping.\n",
      "\n",
      "Will train until eval-auc hasn't improved in 10 rounds.\n",
      "[1]\ttrain-auc:0.643941\teval-auc:0.635824\n",
      "[2]\ttrain-auc:0.654583\teval-auc:0.640913\n",
      "[3]\ttrain-auc:0.66932\teval-auc:0.646794\n",
      "[4]\ttrain-auc:0.680558\teval-auc:0.644378\n",
      "[5]\ttrain-auc:0.688778\teval-auc:0.64224\n",
      "[6]\ttrain-auc:0.698\teval-auc:0.641188\n",
      "[7]\ttrain-auc:0.713393\teval-auc:0.642219\n",
      "[8]\ttrain-auc:0.724039\teval-auc:0.635598\n",
      "[9]\ttrain-auc:0.72759\teval-auc:0.635725\n",
      "[10]\ttrain-auc:0.733092\teval-auc:0.647214\n",
      "[11]\ttrain-auc:0.736398\teval-auc:0.643612\n",
      "[12]\ttrain-auc:0.746603\teval-auc:0.647154\n",
      "[13]\ttrain-auc:0.75328\teval-auc:0.64212\n",
      "[14]\ttrain-auc:0.757369\teval-auc:0.639531\n",
      "[15]\ttrain-auc:0.761067\teval-auc:0.635787\n",
      "[16]\ttrain-auc:0.766503\teval-auc:0.618441\n",
      "[17]\ttrain-auc:0.770366\teval-auc:0.611311\n",
      "[18]\ttrain-auc:0.777313\teval-auc:0.621721\n",
      "[19]\ttrain-auc:0.780677\teval-auc:0.6227\n",
      "[20]\ttrain-auc:0.788388\teval-auc:0.625628\n",
      "Stopping. Best iteration:\n",
      "[10]\ttrain-auc:0.733092\teval-auc:0.647214\n",
      "\n"
     ]
    }
   ],
   "source": [
    "dtrain = xgb.DMatrix(X_train, y_train)\n",
    "dvalid = xgb.DMatrix(X_valid, y_valid)\n",
    "\n",
    "param = {}\n",
    "# Model setting\n",
    "param['objective'] = 'binary:logistic'\n",
    "param['booster'] = 'gbtree'\n",
    "param['eval_metric'] = 'auc'\n",
    "\n",
    "# weight regularization\n",
    "param['Eta'] = 0.3\n",
    "param['Lambda'] = 10.0\n",
    "param['alpha'] = 10.0\n",
    "\n",
    "# partitioning regularization\n",
    "param['Gamma'] = 1.0\n",
    "param['Max_depth'] = 20\n",
    "param['min_child_weight'] = 20\n",
    "\n",
    "# sampling regularization\n",
    "param['Subsample'] = 0.6\n",
    "param['Colsample_bytree'] = 1.0\n",
    "\n",
    "# iteration regularization\n",
    "num_round = 200\n",
    "early_stopping_rounds = 10\n",
    "\n",
    "# To use early stopping, there should be stopping material which is validation set\n",
    "watchlist = [(dtrain, 'train'), (dvalid, 'eval')]\n",
    "\n",
    "bst = xgb.train(param, dtrain, num_round, evals=watchlist,\n",
    "                early_stopping_rounds=early_stopping_rounds,\n",
    "                verbose_eval=True)"
   ]
  },
  {
   "cell_type": "code",
   "execution_count": 10,
   "metadata": {
    "collapsed": false,
    "scrolled": true
   },
   "outputs": [
    {
     "data": {
      "image/png": "[encoded data removed]",
      "text/plain": [
       "<matplotlib.figure.Figure at 0x7f40dcb38630>"
      ]
     },
     "metadata": {},
     "output_type": "display_data"
    }
   ],
   "source": [
    "xgb.plot_importance(bst)\n",
    "plt.show()"
   ]
  }
 ],
 "metadata": {
  "kernelspec": {
   "display_name": "Python 3",
   "language": "python",
   "name": "python3"
  },
  "language_info": {
   "codemirror_mode": {
    "name": "ipython",
    "version": 3
   },
   "file_extension": ".py",
   "mimetype": "text/x-python",
   "name": "python",
   "nbconvert_exporter": "python",
   "pygments_lexer": "ipython3",
   "version": "3.4.3"
  }
 },
 "nbformat": 4,
 "nbformat_minor": 1
}
